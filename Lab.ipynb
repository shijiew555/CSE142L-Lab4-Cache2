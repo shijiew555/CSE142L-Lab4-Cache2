{
 "cells": [
  {
   "cell_type": "code",
   "execution_count": null,
   "id": "0b35aa5d",
   "metadata": {
    "cse142L.is_response": true,
    "deletable": false,
    "editable": false,
    "init_cell": true
   },
   "outputs": [],
   "source": [
    "\n",
    "from CSE142L.notebook import *\n",
    "from notebook import *\n",
    "# if you get something about NUMEXPR_MAX_THREADS being set incorrectly, don't worry.  It's not a problem."
   ]
  },
  {
   "cell_type": "markdown",
   "id": "c843c0b5",
   "metadata": {
    "cse142L.is_response": true,
    "deletable": false,
    "editable": true
   },
   "source": [
    "\n",
    "<div class=\"namebox\">    \n",
    "Double Click to edit and enter your\n",
    "\n",
    "1.  Name\n",
    "2.  Student ID\n",
    "3.  @ucsd.edu email address\n",
    "    \n",
    "</div>"
   ]
  },
  {
   "cell_type": "markdown",
   "id": "9ea9e8ce",
   "metadata": {
    "editable": false
   },
   "source": [
    "\n"
   ]
  },
  {
   "cell_type": "markdown",
   "id": "43eab6c1",
   "metadata": {
    "editable": false
   },
   "source": [
    "<div style=\" font-size: 300% !important;\n",
    "    margin-top: 1.5em;\n",
    "    margin-bottom: 1.5em;\n",
    "    font-weight: bold;\n",
    "    line-height: 1.0;\n",
    "    text-align:center;\">Lab 4: The Memory Hierarchy (Part II)</div>\n"
   ]
  },
  {
   "cell_type": "markdown",
   "id": "c19190cd",
   "metadata": {
    "editable": false
   },
   "source": [
    "This lab is a continuation of the previous lab.  While that lab focused on the basics of cache-aware programming and spatial locality, this lab will focus more on temporal locality and how you can modify your programs to maximize it.\n",
    "\n",
    "As a reminder, between this lab and the last, you'll learn about the concepts of:\n",
    "\n",
    "1.  Memory alignment\n",
    "2.  Thinking in cache lines\n",
    "3.  Working sets\n",
    "4.  The cache hierarchy\n",
    "5.  The impact of miss rate on performance\n",
    "6.  The role of the TLB in determining performance \n",
    "7.  Spatial locality\n",
    "8.  Temporal locality\n",
    "9.  Cache-aware optimizations\n",
    "10.  The impact of data structures on memory behavior\n",
    "\n",
    "Along the way, we'll address several of the \"interesting questions\" we identified in the first lab, including:\n",
    "\n",
    "* Why does increasing the size of array change `CPI`? And why does this change occur so quickly?\n",
    "* How and why do the datatypes we use change `IC` and  `CPI`?\n",
    "* Why does the order in which the program performs calculations affect `CPI`?\n",
    "\n",
    "This lab includes a programming assignment. \n",
    "\n",
    "Check the course schedule for due date(s)."
   ]
  },
  {
   "cell_type": "markdown",
   "id": "350732b8",
   "metadata": {
    "editable": false
   },
   "source": [
    "# FAQ and Updates"
   ]
  },
  {
   "cell_type": "markdown",
   "id": "8efdc8cc",
   "metadata": {
    "editable": false
   },
   "source": [
    "* There are no updates, yet."
   ]
  },
  {
   "cell_type": "markdown",
   "id": "9b247a2a",
   "metadata": {
    "editable": false
   },
   "source": [
    "# Additional Reading"
   ]
  },
  {
   "cell_type": "markdown",
   "id": "b6f57aad",
   "metadata": {
    "editable": false
   },
   "source": [
    "If you want to learn _a lot_ more about optimizing matrix multiply, try this paper:  https://www.cs.utexas.edu/~flame/pubs/GotoTOMS_revision.pdf"
   ]
  },
  {
   "cell_type": "markdown",
   "id": "1d9a2639",
   "metadata": {
    "editable": false
   },
   "source": [
    "# Using in the Correct Environment on DataHub"
   ]
  },
  {
   "cell_type": "markdown",
   "id": "1219456c",
   "metadata": {
    "editable": false
   },
   "source": [
    "<div class=\"alert alert-block alert-danger\">\n",
    "\n",
    "**Use the right Datahub environment** There is a different environment for each lab on DataHub, and you must use the correct environment when working on the corresponding lab.\n",
    "\n",
    "</div>\n",
    "To get into the right environment when you start a new lab, you should:\n",
    "\n",
    "1.  Connect to Datahub.  If it takes you to the menu of environments, select the appropriate one.\n",
    "2.  Otherwise, click \"Control Panel\" in the upper right.\n",
    "3.  Then click \"Stop my Server\"\n",
    "4.  Click \"Start my Server\" which should take you to the menu of environments."
   ]
  },
  {
   "cell_type": "markdown",
   "id": "0a9d97aa",
   "metadata": {
    "editable": false
   },
   "source": [
    "# Pre-Lab Reading Quiz"
   ]
  },
  {
   "cell_type": "markdown",
   "id": "59a426f3",
   "metadata": {
    "editable": false
   },
   "source": [
    "Part of this lab is a pre-lab quiz. The pre-lab quiz is on Canvas.  It is due **on Wednesday before Section A meets** (check Canvas for the time).  It's not hard, but it does require you to read over the lab before class.  If you are having trouble accessing it, make sure you are **logged into Canvas**.\n",
    "\n",
    "##  How To Read the Lab For the Reading Quiz\n",
    "\n",
    "The goal of reading the lab before starting on it is to make sure you have a preview of:\n",
    "\n",
    "1.  What's involved in the lab.\n",
    "2.  The key concepts of the lab.\n",
    "3.  What you can expect from the lab.\n",
    "4.  Any questions you might have.\n",
    "\n",
    "These are the things we will ask about on the quiz.  You _do not_ need to study the lab in depth.  You _do not_ need to run the cells.\n",
    "\n",
    "You should read these parts carefully:\n",
    "\n",
    "* Paragraphs at the top of section/subsections\n",
    "* The description of the programming assignment\n",
    "* Any other large blocks of text\n",
    "* The \"About Labs in This Class\" section (Lab 1 only)\n",
    "\n",
    "You should skim these parts:\n",
    "\n",
    "* The questions.\n",
    "\n",
    "You can skip these parts:\n",
    "\n",
    "* The \"About Labs in This Class\" section (Labs other than Lab 1)\n",
    "* Commentary on the output of code cells (which is most of the lab)\n",
    "* Parts of the lab that refer to things you can't see (like cell output)\n",
    "* Solution to completeness questions.\n",
    "\n",
    "\n",
    "## Taking the Quiz\n",
    "\n",
    "You can find it here: https://canvas.ucsd.edu/courses/40763/quizzes\n",
    "\n",
    "The quiz is \"open lab\" -- you can search, re-read, etc. the lab.\n",
    "\n",
    "You can take the quiz 3 times.  Highest score counts."
   ]
  },
  {
   "cell_type": "markdown",
   "id": "95fc860b",
   "metadata": {
    "editable": false
   },
   "source": [
    "# Browser Compatibility"
   ]
  },
  {
   "cell_type": "markdown",
   "id": "06e50cc3",
   "metadata": {
    "editable": false
   },
   "source": [
    "We are still working out some bugs in some browsers.  Here's the current status:\n",
    "\n",
    "1.  Chrome -- well tested.  Preferred option. **Required for Moneta**\n",
    "2.  Firefox -- seems ok, but not thoroughly tested.\n",
    "3.  Edge -- seems ok, but not thoroughly tested.\n",
    "4.  Safari -- not supported at the moment.\n",
    "5.  Internet Explorer -- not supported at the moment.\n",
    "\n",
    "At the moment, the authentication step must be done in Chrome.  You usually _will not_ have to re-authenticate between labs, so if things work OK for the first, things will probably work here. "
   ]
  },
  {
   "cell_type": "markdown",
   "id": "645b6e6b",
   "metadata": {
    "editable": false
   },
   "source": [
    "# About Labs In This Class"
   ]
  },
  {
   "cell_type": "markdown",
   "id": "d17fcf91",
   "metadata": {
    "editable": false
   },
   "source": [
    "_This section is the same in all the labs.  It's repeated here for your reference._\n",
    "\n",
    "Labs are a way to **learn by doing**.  This means you _must_ **do**.  I have built these labs as Jupyter notebooks so that the \"doing\" is as easy and seamless as possible.\n",
    "\n",
    "In this lab, what you'll do is answer questions about how a program will run and then compare what really happened to your predictions.  Engaging with this process is how you'll learn.  The questions that the lab asks are there for several purposes:\n",
    "\n",
    "1.  To draw your attention to specific aspects of an experiment or of some results.\n",
    "2.  To push you to engage with the material more deeply by thinking about it.\n",
    "3.  To make you commit to a prediction so you can wonder why your prediction was wrong or be proud that you got it right.\n",
    "4.  To provide some practice with skills/concepts you're learning in this course.\n",
    "5.  To test your knowledge about what you've learned.\n",
    "\n",
    "The questions are graded in one of three ways:\n",
    "\n",
    "1. \"Correctness\" questions require you to answer the question and get the correct answer to get full credit.\n",
    "2. \"Completeness\" questions require you to answer (even if incorrectly) all parts of the question to get credit.\n",
    "3. \"Optional\" questions are...optional.  They are there if you want to go further with the material.\n",
    "\n",
    "Some of the \"Completeness\" problems include a solution that will be hidden until you click \"Show Solution\".  To get the most from them, try them on your own first.\n",
    "\n",
    "Many of the \"Completeness\" questions ask you to make predictions about the outcome of an experiment and write down those predictions.  To maximize your learning, think carefully about your prediction and commit to it.  **You will never be penalized for making an incorrect prediction.**\n",
    "\n",
    "You are free to discuss \"Completeness\" and \"Optional\" questions with your classmates.  You must complete \"Correctness\" questions on your own.\n",
    "\n",
    "If you have questions about any kind of question, please ask during office hours or during class."
   ]
  },
  {
   "attachments": {
    "image.png": {
     "image/png": "[encoded data removed]"
    }
   },
   "cell_type": "markdown",
   "id": "8f6fc049",
   "metadata": {
    "editable": false
   },
   "source": [
    "## How To Succeed On the Labs\n",
    "\n",
    "Here are some simple tips that will help you do well on this lab:\n",
    "\n",
    "1.  Read/skim through the entire lab _before_ class.  If something confuses you, you can ask about it.\n",
    "2.  Start early.  Getting answers on piazza can take time.  So think through the lab questions (and your questions about them) carefully.\n",
    "    1. Go through the lab once (several days before the deadline), do the parts that are easy/make sense\n",
    "    2. Ask questions/think about the rest\n",
    "    3. Come back and do the rest.\n",
    "3.  Start early.  The DSMLP cluster gets busy and slow near deadlines.  \"The cluster was slow the night of the deadline\" is not an excuse for not getting the lab done and it is not justification for asking for an extension.\n",
    "4.  Follow the guidelines below for asking answerable questions on piazza.\n",
    "\n",
    "You may think to yourself: \"If I start early enough to account for all that, I'd have to start right after the lab was assigned!\"  Good thought!\n",
    "\n",
    "![image.png](attachment:image.png)\n"
   ]
  },
  {
   "cell_type": "markdown",
   "id": "e3b2f978",
   "metadata": {
    "editable": false
   },
   "source": [
    "<div class=\"alert alert-block alert-danger\">\n",
    "\n",
    "**The Cluster Will Get Slow** DSMLP and our cloud machines will get crowded and slow _before every deadline_.  This is completely predictable.  DSMLP can also get crowded due to deadlines in other courses.  You need to start early so you can avoid/work around these slowdowns.  Unless there's some kind of complete outage, we will not grant extensions because the servers are crowded.\n",
    "    \n",
    "</div>"
   ]
  },
  {
   "cell_type": "markdown",
   "id": "1de1de45",
   "metadata": {
    "editable": false
   },
   "source": [
    "## Getting Help\n",
    "\n",
    "You might run into trouble while doing this lab.  Here's how to get help:\n",
    "\n",
    "1.  Re-read the instructions and make sure you've followed them.\n",
    "2.  Try saving and reloading the notebook.\n",
    "3.  If it says you are not authenticated, go to the [the login section of the lab](#Logging-In-To-the-Course-Tools) and (re)authenticate.\n",
    "4.  If you get a `FileNotFoundError` make sure you've run all the code cells above your current point in the lab.\n",
    "4.  If you get an exception or stack dump, check that you didn't accidentally modify the contents of one of the python cells.\n",
    "5.  If all else fails, post a question to piazza.\n",
    "\n",
    "## Posting Answerable Questions on Piazza\n",
    "\n",
    "If you want useful answers on piazza, you need to provide information that is specific enough for us to provide a useful answer.  Here's what we need:\n",
    "\n",
    "1.  Which part of which lab are you working on (use the section numbers)?\n",
    "2.  Which problem (copy and paste the _text_ of the question along with the number).\n",
    "\n",
    "If it's question about instructions:\n",
    "\n",
    "1.  Try to be as specific as you can about what is confusing or what you don't understand (e.g., \"I'm not sure if I should do _X_ or _Y_.\")\n",
    "\n",
    "If it's a question about an error while running code, then we need:\n",
    "\n",
    "1.  If you've committed anything, your github repo url.\n",
    "2.  If you've submitted a job with `cse142` you _must_ provide the job id.  It looks like this: `544e0cf2-4771-43c3-86f8-1c30d7af601f`.  With the id, we can figure out just about anything about your job.  Without it, we know nothing.\n",
    "3.  The _entire_ output you received.  There's no limit on how long an piazza post can be.  Give us all the information, not just the last few lines.  We like to scroll!\n",
    "\n",
    "For all of the above **paste the text** into the piazza question.  Please **do not provide screen captures**.  The course staff refuses to type in job ids found in screen shots.\n",
    "\n",
    "\n",
    "<div class=\"alert alert-block alert-danger\">\n",
    "\n",
    "**We Can't Answer Unanswerable Questions** If you don't follow these guidelines (especially about the github repo and the job id), we will probably not be able to answer your question on piazza.  We will archive it and ask you to re-post your question with the information we need.\n",
    "    \n",
    "</div>"
   ]
  },
  {
   "cell_type": "markdown",
   "id": "99b0817d",
   "metadata": {
    "editable": false
   },
   "source": [
    "## Keeping Your Lab Up-to-Date\n",
    "\n",
    "`pull-updates` is causing more trouble than it's worth, so it's been removed for this lab.\n",
    "\n",
    "~Occasionally, there will be changes made to the base repository after the\n",
    "assignment is released.  This may include bug fixes and updates to this document.  We'll post on piazza when an update is available.~\n",
    "\n",
    "~In those cases, you can use `./pull-updates` to pull the changes from upstream and merge them into your code.  You'll need to do this at a shell.  It won't work properly in the notebook.  Save your notebook in the browser first.~\n",
    " \n",
    "~Then, change to your lab directory and do~\n",
    "\n",
    "```\n",
    "./pull-updates\n",
    "```\n"
   ]
  },
  {
   "cell_type": "markdown",
   "id": "7b6508ef",
   "metadata": {
    "editable": false
   },
   "source": [
    "Then, reload this page in your browser."
   ]
  },
  {
   "cell_type": "markdown",
   "id": "1e87ce2f",
   "metadata": {
    "editable": false
   },
   "source": [
    "## Writing Code Outside Jupyter Notebook\n",
    "\n",
    "The code for some programming assignments could get pretty long.  If you'd like, you can develop outside of Jupyter Notebook.\n",
    "\n",
    "You can do this by removing the call to `code()` and replacing it with a file name.  Then `build()` will use the source code in the file.\n",
    "\n",
    "<div class=\"alert alert-block alert-warning\">\n",
    "\n",
    "**Don't overwrite your code**:  `code()` does some checks to try to avoid overwriting your code and will throw an exception if it found modifications to files it wrote earlier.  This seems to work pretty well, but I wouldn't trust it, so commit often.\n",
    "    \n",
    "</div>\n"
   ]
  },
  {
   "cell_type": "markdown",
   "id": "5b2f2f39",
   "metadata": {
    "editable": false
   },
   "source": [
    "## Using VSCode\n",
    "\n",
    "You can also develop remotely using Microsoft VSCode. You can find instructions from campus about how to do this on Datahub under \"Visual Studio (VS) Code\" at this link: https://support.ucsd.edu/services?id=kb_article_view&sysparm_article=KB0032269&sys_kb_id=01322d481b5ed514d1b0a935604bcb7a\n",
    "\n",
    "The TAs report that this works fine.\n",
    "\n",
    "A few things to note:\n",
    "\n",
    "1. That pages lists several ways of starting docker containers on the campus servers. The configuration for this class is a little unusual, and none of the other methods listed on that page have been tested for this class. I suspect they don't work, and we won't be fixing them.\n",
    "2. You'll need to be on campus or on the campus VPN.\n",
    "3. Using VSCode is not officially supported in this class. If it doesn't work for you, the TAs may be willing help you and you might have luck submitting a ticket to campus, but if you can't get it to work, you'll need to fall back on working through Jupyter Notebook."
   ]
  },
  {
   "cell_type": "markdown",
   "id": "22dbfb1c",
   "metadata": {
    "editable": false
   },
   "source": [
    "## How To Use This Document\n",
    "\n",
    "You will use Jupyter Notebook to complete this lab.  You should be able to do much of this lab without leaving Jupyter Notebook.  The main exception will be some parts of the some of the programming assignments.  The instructions will make it clear when you should use the terminal.\n",
    "\n",
    "### Logging In\n",
    "\n",
    "If you haven't already, you can go to [the login section of the lab](#Logging-In-To-the-Course-Tools) and follow the instructions to login into the course infrastructure.\n",
    "\n",
    "### Running Code\n",
    "\n",
    "Jupyter Notebooks are made up of \"cells\".  Some have Markdown-formatted text in them (like this one).  Some have Python code (like the one below).\n",
    "\n",
    "For code cells, you press `shift-return` to execute the code.  Try it below:"
   ]
  },
  {
   "cell_type": "code",
   "execution_count": null,
   "id": "8b2f1679",
   "metadata": {
    "editable": true
   },
   "outputs": [],
   "source": [
    "print(\"I'm in python\")"
   ]
  },
  {
   "cell_type": "markdown",
   "id": "18ffdc95",
   "metadata": {
    "editable": false
   },
   "source": [
    "Code cells can also execute shell commands using the `!` operator.  Try it below:"
   ]
  },
  {
   "cell_type": "code",
   "execution_count": null,
   "id": "0efd7a21",
   "metadata": {
    "editable": true
   },
   "outputs": [],
   "source": [
    "!echo \"I'm in a shell\""
   ]
  },
  {
   "attachments": {
    "image.png": {
     "image/png": "[encoded data removed]"
    }
   },
   "cell_type": "markdown",
   "id": "113b2b4f",
   "metadata": {
    "editable": false
   },
   "source": [
    "### Telling What The Notebook is Doing\n",
    "\n",
    "The notebook will only run one cell at a time, so if you press `shift-return` several times, the cells will wait for one another.  You can tell that a cell is waiting if it there's a `*` in the `[]` to the left the cell:\n",
    "\n",
    "![image.png](attachment:image.png)\n"
   ]
  },
  {
   "attachments": {
    "image.png": {
     "image/png": "[encoded data removed]"
    }
   },
   "cell_type": "markdown",
   "id": "eb8245f3",
   "metadata": {
    "editable": false
   },
   "source": [
    "You'll can also tell _where_ the notebook is executing by looking at the table of contents on the left.  The section with the currently-executing cell will be red:\n",
    "\n",
    "![image.png](attachment:image.png)"
   ]
  },
  {
   "attachments": {
    "image.png": {
     "image/png": "[encoded data removed]"
    }
   },
   "cell_type": "markdown",
   "id": "7e38d646",
   "metadata": {
    "editable": false
   },
   "source": [
    "### What to Do If Jupyter Notebook It Gets Stuck\n",
    "\n",
    "First, check if it's actually stuck: Some of the cells take a while, but they will usually provide some visual sign of progress.  If _nothing_ is happening for more than 10 seconds, it's probably stuck.\n",
    "\n",
    "To get it unstuck, you stop execution of the current cell with the \"interrupt button\":\n",
    "\n",
    "![image.png](attachment:image.png)"
   ]
  },
  {
   "attachments": {
    "image.png": {
     "image/png": "[encoded data removed]"
    }
   },
   "cell_type": "markdown",
   "id": "6619b73d",
   "metadata": {
    "editable": false
   },
   "source": [
    "You can also restart the underlying python instance (i.e., the confusingly-named \"kernel\" which is not the same thing as the operating system kernel) with the restart button:\n",
    "\n",
    "![image.png](attachment:image.png)\n",
    "\n",
    "Once you do this, all the variables defined by earlier cells are gone, so you may get some errors.  You may need to re-run the cells in the current section to get things to work again.\n",
    "\n",
    "You can also try reloading the web page.  That will leave Python kernel intact, but it can help with some problems."
   ]
  },
  {
   "attachments": {
    "image.png": {
     "image/png": "[encoded data removed]"
    }
   },
   "cell_type": "markdown",
   "id": "2c056efe",
   "metadata": {
    "editable": false
   },
   "source": [
    "### Common Errors and Non-Errors\n",
    "\n",
    "1.  If you get `sh: 0: getcwd() failed: no such file or directory`, restart the kernel.\n",
    "2.  If you get `INFO:MainThread:numexpr.utils:Note: NumExpr detected 40 cores but \"NUMEXPR_MAX_THREADS\" not set, so enforcing safe limit of 8.`.  It's not a real error.  Ignore it. \n",
    "3.  If you get a prompt asking `Do you want to cancel them and run this job?` but you can't reply because you can't type into an output cell in Jupyter notebook, replace `cse142 job run` with `cse142 job run --force`. (see useful tip below.)\n",
    "4.  If you get an `Error: Your request failed on the server: 500 Server Error: Internal Server Error for url=http://cse142l-dev.wl.r.appspot.com/file`, trying running the job again.\n",
    "5.  Sometimes `cse142 job run` will just sit there and seemingly do nothing.  Weirdly, interrupting the kernel (button above) seems to jolt it awake and cause it to continue.\n",
    "6.  These errors while display CFGs are harmless:\n",
    "![image.png](attachment:image.png)\n",
    "6.  Warnings like this in pink about deprecated or ignored arguments are harmless:"
   ]
  },
  {
   "attachments": {
    "image.png": {
     "image/png": "[encoded data removed]"
    }
   },
   "cell_type": "markdown",
   "id": "2404313a",
   "metadata": {
    "editable": false
   },
   "source": [
    "![image.png](attachment:image.png)"
   ]
  },
  {
   "cell_type": "markdown",
   "id": "45a7ee70",
   "metadata": {
    "editable": false
   },
   "source": [
    "7. If you get `http.cookiejar.LoadError: '/home/youruserrname/.djr-cookies.txt does not look like like a Netscape format cookies file.` remove the file and re-authenticate.\n",
    "8. If you get \n",
    "\n",
    "```\n",
    "You already have one or more jobs submitted or running.\n",
    "a26fc9cc-ba36-4f49-89ea-1f36b16b5ea4    you@ucsd.edu    CREATED    2022-10-07 23:46:18.709330+00:00    true\n",
    "Do you want to cancel them and run this job? [y/N]: \n",
    "```\n",
    "\n",
    "You can run `cse142 job run --lab intro --take NOTHING true` and it should fix it.\n",
    "\n",
    "9. If you get a big list of files that ends like this:\n",
    "\n",
    "```\n",
    ".cfiddle/builds/build/MORE_INCLUDES_-I_cse142L_CSE141pp-Tool-Moneta_moneta__nibble/nibble_29.so\n",
    ".cfiddle/builds/build/MORE_INCLUDES_-I_cse142L_CSE141pp-Tool-Moneta_moneta__nibble/nibble_76.so\n",
    "If you want to upload more than 200 files, pass '--input-file-count-limit '.\n",
    "```\n",
    "\n",
    "It means you have too many files in your local directory.  You can delete some of them or do what the error says and pass a large value to `--input-file-count-limit` (although that will make running jobs quite slow for you).  A good candidate for deletion is your `.cfiddle` folder.  You remove but you may need re-run some of your `build()` cells afterwards:"
   ]
  },
  {
   "cell_type": "code",
   "execution_count": null,
   "id": "a94a89bb",
   "metadata": {
    "editable": true
   },
   "outputs": [],
   "source": [
    "#!rm -rf .cfiddle"
   ]
  },
  {
   "attachments": {
    "image.png": {
     "image/png": "[encoded data removed]"
    }
   },
   "cell_type": "markdown",
   "id": "ce58c26c",
   "metadata": {
    "editable": false
   },
   "source": [
    "10.  If you get this\n",
    "\n",
    "![image.png](attachment:image.png)\n",
    "\n",
    "This means that cfiddle's `code()` function detected a change to the file mentioned (`foo.cpp` in the error above) and it is refusing to overwrite it, so it doesn't destroy your changes.  This can happen, for example, if you've edited the file in VSCode.  You can either \n",
    "\n",
    "    1. Delete the file (`rm foo.cpp`) and re-execute the cell.\n",
    "    2. Delete the file, and replace the argument to `code()` with the new contents of the file, so you can keep editing in Jupyter notebook.\n",
    "    3. Keep editing the file externally and replace the call to `code()` with the file name."
   ]
  },
  {
   "attachments": {
    "image.png": {
     "image/png": "[encoded data removed]"
    }
   },
   "cell_type": "markdown",
   "id": "a18b2488",
   "metadata": {
    "editable": false
   },
   "source": [
    "### Useful Tips\n",
    "\n",
    "1.  If you need to edit a cell, but you can't you can unlock it by pressing this button in the tool bar (although you probably shouldn't do this because it might make the lab work incorrectly.  A better choice is to copy and paste the cell, _and then_ unlock the copy):\n",
    "![image.png](attachment:image.png)"
   ]
  },
  {
   "attachments": {
    "image.png": {
     "image/png": "[encoded data removed]"
    }
   },
   "cell_type": "markdown",
   "id": "a6627d25",
   "metadata": {
    "editable": false
   },
   "source": [
    "### The Embedded Code\n",
    "\n",
    "The code embedded in the lab falls into two categories:\n",
    "\n",
    "1.  Code you need to edit and understand.\n",
    "2.  Code that you do not need to edit or understand -- it's just there to display something for you.\n",
    "\n",
    "For code in the first category, the lab will make it clear that you need to study, modify, and/or run the code.  If we don't explicitly ask you to do something, you don't need to.\n",
    "\n",
    "Most of the code in the second category is for drawing graphs.  You can just run it with shift-return to the see the results.  If you are curious, it's mostly written with `Pandas` and `matplotlib`.   These cells should be un-editable.  However, if you want to experiment with them, you can copy _the contents_ of the cell into a new cell and do whatever you want (If you copy the cell, the copy will also be uneditable).\n",
    "\n",
    "<div class=\"alert alert-block alert-info\">\n",
    "\n",
    "**Most Cells are Immutable** Many of the cells of this notebook are uneditable. The only ones you should edit are some of the code cells and the text cells with questions in them.\n",
    "</div>\n",
    "\n",
    "<div class=\"alert alert-block alert-info\">\n",
    "\n",
    "**Pro Tip** The \"carrot\" icon in the lower right (shown below) will open a scratch pad area.  It can be a useful place to do math (or whatever else you want).\n",
    "    \n",
    "![image.png](attachment:image.png)\n",
    "</div>"
   ]
  },
  {
   "cell_type": "markdown",
   "id": "44cc1b97",
   "metadata": {
    "editable": false
   },
   "source": [
    "### Showing Your Work\n",
    "\n",
    "Several questions ask you to show your work for calculations.  We don't need anything fancy.  Many of the questions ask you to compute something based on results of an experiment.  Your experimental results will be different than others', so your answer will be different as well.\n",
    "\n",
    "To make it possible to grade your work (and give you partial credit), we need to know where your answer came from.  This is why you need to show your work.  For instance this would be fine as answer to \"On average, how many weeks do you have per lab?\":\n",
    "\n",
    "```\n",
    "Weeks in quarter/# of labs = 10/5 = 2 weeks/lab\n",
    "```\n",
    "\n",
    "2 significant figures is sufficient in all cases, but you can include more, if you want.\n",
    "\n",
    "If you are feeling fancy, you can use LaTex, but it's not at all required.\n",
    "\n",
    "When it's appropriate, you can also paste in images.  However, Jupyter Notebook is flaky about it.  Save frequently."
   ]
  },
  {
   "attachments": {
    "image-2.png": {
     "image/png": "[encoded data removed]"
    },
    "image-3.png": {
     "image/png": "[encoded data removed]"
    },
    "image.png": {
     "image/png": "[encoded data removed]"
    }
   },
   "cell_type": "markdown",
   "id": "1fb1c01d",
   "metadata": {
    "editable": false
   },
   "source": [
    "###  Saving Your Work and Making Sure Your Connected to the Server\n",
    "\n",
    "In theory, Jupyter Notebook saves automatically.  However, a few things can go wrong:\n",
    "\n",
    "If your Datahub server shuts down, you can still edit your notebook, but you won't be able to save it.  \n",
    "\n",
    "![image-3.png](attachment:image-3.png)\n",
    "\n",
    "You can tell your server has stopped if there's a red box in the upper right that says \"Not Connected\":\n",
    "\n",
    "![image-2.png](attachment:image-2.png)\n",
    "\n",
    "If this happens, you should stop working, restart your server and reload the lab.\n",
    "\n",
    "In any case, it's a good idea to save frequently:\n",
    "\n",
    "![image.png](attachment:image.png)\n"
   ]
  },
  {
   "cell_type": "markdown",
   "id": "e79a1047",
   "metadata": {
    "editable": false
   },
   "source": [
    "### Answering Questions\n",
    "\n",
    "Throughout this document, you'll see some questions (like the one below).  You can double click on them to edit them and fill in your answer.  Try not to mess up the formatting (so it's easy for us to grade), but at least make sure your answer shows up clearly.  When you are done editing, you can `shift-return` to make it pretty again.\n",
    "\n",
    "A few tips, pointers, and caveats for answering questions:\n",
    "\n",
    "1. The answers are all in [github-flavored markdown](https://guides.github.com/features/mastering-markdown/) with some html sprinkled in.  Leave the html alone.\n",
    "2. Many answers require you to fill in a table, and many of the `|` characters will be missing.  You'll need to add them back.\n",
    "3. The HTML needs to start at the beginning of a line.  If there are spaces before a tag, it won't render properly.  If you accidentally add white space at the beginning of a line with an html tag on it, you'll need to fix it.\n",
    "4. Text answers also need to start at the beginning of a line, otherwise they will be rendered as code.\n",
    "5. Press `shift-return` or `option-return` to render the cell and make sure it looks good.\n",
    "6. There needs to be a blank line between html tags and markdown.  Otherwise, the markdown formatting will not appear correctly.\n",
    "\n",
    "\n",
    "You'll notice that there are three kinds of questions: \"Correctness\", \"Completeness\", and \"Optional\".  You need to provide an answer to the \"Completeness\" questions, but you won't be graded on its correctness.  You'll need to answer \"Correctness\" questions correctly to get credit.  The \"Optional\" questions are optional."
   ]
  },
  {
   "cell_type": "markdown",
   "id": "b068f314",
   "metadata": {
    "editable": false
   },
   "source": [
    " \n"
   ]
  },
  {
   "cell_type": "markdown",
   "id": "485e3db0",
   "metadata": {
    "editable": false
   },
   "source": [
    "# Logging In To the Course Tools"
   ]
  },
  {
   "cell_type": "markdown",
   "id": "f06a7ba9",
   "metadata": {
    "editable": false
   },
   "source": [
    "    \n",
    "In the course you will use some specialized tools to let you perform detailed measurements of program behavior.  To use them you need to login with your `@ucsd.edu` email address using the instructions below. **You need to use the email address that appears on the course roster.  That's the email address we created an account for.  In almost all cases, this is your `@ucsd.edu` email address.**\n",
    "\n",
    "You'll probably only have to do this once this quarter, but if you get an error about not being authenticated, just re-authenticate.  You can return to this notebook (or any other of the lab notebooks) to login at any time.\n",
    "\n",
    "Here's what to do:\n",
    "\n",
    "1.  Enter your `@ucsd.edu` email address (without the '<>') in quotes after `login` below.  It'll take a few seconds to load.\n",
    "2.  Click the google \"G\" login button below and login with your `@ucsd.edu` email address. \n",
    "3. **Click the google button regardless of whether it says \"sign in\" or \"signed in\".  Then be sure to select your `@ucsd.edu account` if it shows you multiple google acocunts**\n",
    "4. You'll see a very long string numbers an letters appear above.  Click \"Copy it\" to copy it.\n",
    "\n",
    "**Note:** If it doesn't give you a choice about which account to log into and authentication fails, that means you are logged into a single Google account and that account is _not_ your `@ucsd.edu` account.  You'll have to log into your `@ucsd.edu` through Gmail or through Chrome's account manager and then try again.\n",
    "\n",
    "<div class=\"alert alert-block alert-danger\">\n",
    "\n",
    "**Use Chrome** The login process doesn't seem to work properly with Safari or Firefox.  Use Chrome to login.  You can use any of the other compatible browsers you want for the doing the rest of the lab, and it should be fine.\n",
    "\n",
    "</div>\n",
    "\n"
   ]
  },
  {
   "cell_type": "code",
   "execution_count": 5,
   "id": "31ab8e13",
   "metadata": {
    "editable": true
   },
   "outputs": [],
   "source": [
    "login(\"Your @ucsd.edu email address\") \n"
   ]
  },
  {
   "cell_type": "markdown",
   "id": "8a4787fc",
   "metadata": {
    "editable": false
   },
   "source": [
    "Next step:  Paste it below between the quote marks.  Press `shift-return`."
   ]
  },
  {
   "cell_type": "code",
   "execution_count": null,
   "id": "4b4b509a",
   "metadata": {
    "editable": true
   },
   "outputs": [],
   "source": [
    "token(\"your_token\") \n"
   ]
  },
  {
   "cell_type": "markdown",
   "id": "4b38863e",
   "metadata": {
    "editable": false
   },
   "source": [
    "It should have replied with\n",
    "\n",
    "``` \n",
    "You are authenticated as <your email>\n",
    "```\n",
    "\n",
    "You are now logged in!  Try submitting a job: "
   ]
  },
  {
   "cell_type": "code",
   "execution_count": null,
   "id": "1495eab2",
   "metadata": {
    "editable": true
   },
   "outputs": [],
   "source": [
    "!cse142 job run \"echo Hello World\""
   ]
  },
  {
   "cell_type": "markdown",
   "id": "cf958c4b",
   "metadata": {
    "editable": false
   },
   "source": [
    "If you see \"Hello World\", you're all set.  Proceed with the lab!\n",
    "\n",
    "<div class=\"alert alert-block alert-danger\">\n",
    "\n",
    "Delete your token from the above cell (`token(\"...\")`). Because your token is essentially your username and password combined, you should treat it like a password or ssh private key.  **Sharing your token with another student or possessing another student's token is an AI violation**.\n",
    "</div>"
   ]
  },
  {
   "cell_type": "markdown",
   "id": "947c9062",
   "metadata": {
    "editable": false
   },
   "source": [
    " \n"
   ]
  },
  {
   "cell_type": "markdown",
   "id": "7c31166e",
   "metadata": {
    "editable": false
   },
   "source": [
    "# Grading"
   ]
  },
  {
   "cell_type": "markdown",
   "id": "6e0c935d",
   "metadata": {
    "editable": false
   },
   "source": [
    "Your grade for this lab will be based on the following components\n",
    "\n",
    "| Part                       | value |\n",
    "|----------------------------|-------|\n",
    "| Reading quiz               | 3%    |\n",
    "| Jupyter Notebook           | 45%   |\n",
    "| Programming Assignment     | 50%   |\n",
    "| Post-lab survey.           | 2%    |\n",
    "\n",
    "No late work or extensions will be allowed.\n",
    "\n",
    "We will grade 5 of the \"completeness\" problems.  They are worth 3 points each.  We will grade all of the \"correctness\" questions.\n",
    "\n",
    "You'll follow the directions at the end of the lab to submit the lab write up and the programming assignment through gradescope. \n",
    "\n",
    "Please check gradescope for exact due dates."
   ]
  },
  {
   "cell_type": "markdown",
   "id": "c57d2330",
   "metadata": {
    "editable": false
   },
   "source": [
    "# New Tools"
   ]
  },
  {
   "attachments": {
    "image.png": {
     "image/png": "[encoded data removed]"
    }
   },
   "cell_type": "markdown",
   "id": "490d71ef",
   "metadata": {
    "editable": false
   },
   "source": [
    "The only new tool you'll be using in this lab is a new kind of graph that visualizes a \"trace\" of memory accesses made by a program.  Traces get used a lot in computer system analysis.  In this case, it's a memory trace which is just a list of all of memory accesses a program makes.  \n",
    "We generate the trace using [Intel's Pin binary instrumentation tool](https://www.intel.com/content/www/us/en/developer/articles/tool/pin-a-dynamic-binary-instrumentation-tool.html), which can do all kinds of cool things.  In our case, it injects code into the running executable that writes the address of each load and store to a file along with some metadata (e.g., which thread made the access, whether it was read or write).\n",
    "\n",
    "Here's an example:\n",
    "\n",
    "\n",
    "![img/example.png](attachment:image.png)\n"
   ]
  },
  {
   "cell_type": "markdown",
   "id": "3e20cc5d",
   "metadata": {
    "editable": false
   },
   "source": [
    "The horizontal axis is the \"access number\".  The first memory access in the program has access number 1, the second has access number 2, and so on.  The vertical axis is the relative address.  The colors mean different things in different plots.\n",
    "\n",
    "You might ask \"Why are these graphs janky screen captures?\"  Well, the graphs were rendered with a very cool Jupyter Notebook extension called Moneta that some of the first students to take 142L wrote as a group independent study during the spring of 2020 (the first quarter of the pandemic).  It was an awesome interactive tool that let you pan and zoom and measure memory traces.  However, it suffered from two key flaws:\n",
    "\n",
    "1.  It was entirely too much for datahub to handle.  It used vast amounts of memory and would routinely crash students' virtual machines.\n",
    "2.  It relied on some obsolete python libraries.\n",
    "\n",
    "Moneta II is in the works to address these problems, but it's not ready yet.  So, for now, we have screen caps."
   ]
  },
  {
   "cell_type": "markdown",
   "id": "e5621316",
   "metadata": {
    "editable": false
   },
   "source": [
    "# Temporal Locality"
   ]
  },
  {
   "cell_type": "markdown",
   "id": "167d7406",
   "metadata": {
    "editable": false
   },
   "source": [
    "In the last lab, we examined the notion of spatial locality in detail.  Now, we will turn to temporal locality.\n",
    "\n",
    "Temporal locality exists when a program accesses the same memory multiple times within a short time.  Caches exploit temporal locality by holding on to data that has been accessed recently.  If the processor accesses it again, the cache can provide it very quickly.\n",
    "\n",
    "With spatial locality, it was pretty easy to predict the cache miss rate for a simple loop that performs stride-based accesses (see below).  With temporal locality it is harder because of associativity and conflicts.  Before we dive into that, let's have quick refresher about how caches work (if this is fuzzy, go back and review the slides and/or readings).\n",
    "\n",
    "When a memory operation (load or store) accesses a memory location, $A$, the cache breaks $A$'s address into three parts: \n",
    "\n",
    "| tag | index | offset | \n",
    "|-----|-------|--------|\n",
    "| the remaining bits | `log2(# of associative sets)` | `log2(cache line size)`|\n",
    "\n",
    "Together, the tag and the index of $A$ are a unique name (or number) for the cacheline-sized (and cacheline size-aligned) piece of memory that contains $A$.  The index of $A$ tells the cache which associative set might contain that cache line.\n",
    "\n",
    "The cache can then check that set to see if $A$ is present.  If it is, it's a hit.  If not, it's a miss, and the cache will choose one of the lines in the set to evict to make room for $A$'s cache line.\n",
    "\n",
    "There are two important things to note:\n",
    "\n",
    "1.  $A$'s cacheline is in the cache if and only if, it is in the associative set corresponding to its index (it can never be in another associative set).\n",
    "2.  There are many, many other cache lines that also \"live\" in $A$'s associative set.\n",
    "\n",
    "The L1 data cache in our processor is 32kB, with 64-byte lines, and it's 8-way set associative. So, there are 32,768/64 = 512 cache lines arranged in 512/8 = 64 associative sets.  If the machine has 16GB of memory, it has 256-Million cache lines of main memory.  So, there are about 4 million cache lines that \"live\" in each associative set.  Clearly, there is plenty of opportunities for conflicts.\n",
    "\n",
    "To see how temporal locality plays out in practice, here's some code that should look familiar from the last lab:"
   ]
  },
  {
   "cell_type": "code",
   "execution_count": null,
   "id": "a80d9e2a",
   "metadata": {
    "editable": true
   },
   "outputs": [],
   "source": [
    "\n",
    "stride = build(code(r\"\"\"\n",
    "#include\"util.hpp\"\n",
    "#include\"tensor_t.hpp\"\n",
    "#include<cstdint>\n",
    "\n",
    "extern \"C\"\n",
    "void stride(uint size, uint64_t stride_size, uint reps) {\n",
    "    tensor_t<uint32_t> t(size,1,1,1);\n",
    "    flush_caches();\n",
    "    start_measurement();\n",
    "    for(uint k = 0; k < reps; k++) {\n",
    "        for(uint i = 0; i < stride_size; i++) {\n",
    "            for(uint x = 0; x < size; x += stride_size) {\n",
    "                t.get(x,0,0,0) = x;\n",
    "            }\n",
    "        }    \n",
    "    }\n",
    "    end_measurement();\n",
    "}\n",
    "\"\"\"), arg_map(OPTIMIZE=\"-O1\", DEBUG_FLAGS=\"-g0\"))\n",
    "\n",
    "compare([stride[0].source(\"stride\"), stride[0].cfg(\"stride\")])"
   ]
  },
  {
   "cell_type": "markdown",
   "id": "362c1caa",
   "metadata": {
    "editable": false
   },
   "source": [
    "We are going to run it with a fixed stride of 16 elements (64 bytes -- our cache line size) and we will vary `size` between 1024 and 16,384 (16 * 1024).  This corresponds to region of memory between 4kB and 128kB.  Setting the stride to the cache line size ensures that our access stream has very little _spatial_ locality, since every access will refer to a different cache line.  The `flush_caches()` function invalidates the contents of all the caches -- a useful step for getting clear readings."
   ]
  },
  {
   "cell_type": "markdown",
   "id": "50a31b78",
   "metadata": {
    "cse142L.is_response": true,
    "cse142L.points": 1,
    "cse142L.question_type": "completeness",
    "deletable": false,
    "editable": true,
    "solution2": "hidden",
    "solution2_first": true
   },
   "source": [
    "<div class=\"question completeness\">\n",
    "\n",
    "<div class=\"question-text\">\n",
    "    \n",
    "Given the conditions described above, estimate the _number of cache misses_ that will occur for `size = 1024`, `size = 4096`, and `size = 16384`.  \n",
    "\n",
    "</div>\n",
    "    \n",
    "<div class=\"answer\">\n",
    "    \n",
    "**Cache misses for size = 1024:**\n",
    "\n",
    "**Cache misses for size = 4096:**\n",
    "\n",
    "**Cache misses for size = 16384:**\n",
    "    \n",
    "</div>\n",
    "</div>"
   ]
  },
  {
   "cell_type": "markdown",
   "id": "a70c8025",
   "metadata": {
    "editable": false,
    "solution2": "hidden"
   },
   "source": [
    "<div class=\"solution\">\n",
    "\n",
    "With `size = 1024`, the data occupies 4kB or 64 cache lines.  The first time we access each cache line in the inner loop of `stride()`, we can expect a cache miss, so that's 64 misses.  Notably, each of these will land in a _different_ associative set.  After those 64 misses, however, there shouldn't be any more:  Our code doesn't access any other memory, so those 64 cache lines should remain in the cache.\n",
    "\n",
    "With `size = 4096`, the data occupies 256 cache lines, which should result in 256 misses.  This time, we will use $256/64 = 4$ cache lines in each associative set. There's still plenty of room left in the cache, so we shouldn't expect any more misses.\n",
    "    \n",
    "Moving to `size = 16384` will change things:  Now we have 1024 cache lines, which is twice as many as our cache can hold.  On the first iteration of the inner loop, we will take a cache miss and bring a cache line into the cache at some index, $N$.  During the first 511 iterations of the inner loop, we will touch 511 more cache lines, incurring a total of 512 misses, and occupying all 8 cache lines in each of the 64 associative sets.  On the 513th iteration, the cache will have to evict a line at index $N$.  Then, over the next 511 iterations we will evict _everything_ in the cache, incurring a total of 1024 cache misses. \n",
    "\n",
    "During the next iteration of the outer loop (`stride_size`) will repeat this process 16 times for `16*1024 = 16,384` misses per execution of the inner two loops or about 16,384,000 total per call to `stride()`.   \n",
    "</div>"
   ]
  },
  {
   "cell_type": "markdown",
   "id": "d34aeff0",
   "metadata": {
    "editable": false
   },
   "source": [
    "Run the cells below to see how your prediction played out."
   ]
  },
  {
   "cell_type": "code",
   "execution_count": null,
   "id": "1aae20f7",
   "metadata": {
    "editable": true
   },
   "outputs": [],
   "source": [
    "\n",
    "stride_data = run(stride,  function=\"stride\", arguments=arg_map(stride_size=16, size=[1024,2048,4096,8192,16384,32768], reps=1000),\n",
    "                  perf_counters=[\"L1-DCACHE-LOAD-MISSES\",  \"PERF_COUNT_HW_INSTRUCTIONS\",\"PERF_COUNT_HW_CPU_CYCLES\"])\n",
    "# compare([t.source, t.cfg]) # Uncomment this line to see the code again."
   ]
  },
  {
   "cell_type": "code",
   "execution_count": null,
   "id": "fd424a29",
   "metadata": {
    "cse142L.is_response": true,
    "deletable": false,
    "editable": false
   },
   "outputs": [],
   "source": [
    "\n",
    "stride_data_calc = PE_calc(stride_data.as_df())\n",
    "display(stride_data_calc)\n",
    "plotPE(df=stride_data_calc,lines=True, what=[ ('size', 'CPI'), (\"size\", 'L1_MPI')])"
   ]
  },
  {
   "cell_type": "markdown",
   "id": "d8f227d4",
   "metadata": {
    "cse142L.is_response": true,
    "cse142L.points": 1,
    "cse142L.question_type": "completeness",
    "deletable": false,
    "editable": true,
    "solution2": "hidden",
    "solution2_first": true
   },
   "source": [
    "<div class=\"question completeness\">\n",
    "\n",
    "#### How well do your predictions match the results?\n",
    "\n",
    "<div class=\"answer\">\n",
    "</div>\n",
    "</div>"
   ]
  },
  {
   "cell_type": "markdown",
   "id": "8ed6d120",
   "metadata": {
    "editable": false,
    "solution2": "hidden"
   },
   "source": [
    "<div class=\"solution\">\n",
    "\n",
    "For small sizes, agreement is not perfect.  We predicted 64 misses at `size=1024` and 256 at `size=4096` but we got 77.  This is fine, there's other stuff going on and the L1_MPI is still very low.\n",
    "    \n",
    "Our prediction at `size = 16384` is much better.\n",
    "    \n",
    "The `size=8196` is interesting. It should exactly fit, but we have a lot more misses.  This is because there's other stuff in memory (e.g., the stack) and the tensor should just barely fit.   However, while we get ~100x more misses than at `size=4096`, `L1_MPI` is still quite low and `CPI` doesn't change significantly (in fact, for me it goes down a bit -- wierd).\n",
    "    \n",
    "</div>"
   ]
  },
  {
   "cell_type": "markdown",
   "id": "fa364a95",
   "metadata": {
    "cse142L.is_response": true,
    "cse142L.question_type": "optional",
    "deletable": false,
    "editable": true
   },
   "source": [
    "<div class=\"question optional\">\n",
    "\n",
    "#### Comment out the `flush_caches()` line in the code above. What happens?  Why? \n",
    "\n",
    "<div class=\"answer\">\n",
    "</div>\n",
    "</div>"
   ]
  },
  {
   "cell_type": "markdown",
   "id": "14cf2277",
   "metadata": {
    "editable": false
   },
   "source": [
    "Here's a Moneta plot of what's going on during the execution of `stride()`'s inner loops for  `size = 1024`, `size = 4096`, and `size = 16k`.\n",
    "\n",
    "![img/example.png](img/example.png)"
   ]
  },
  {
   "cell_type": "markdown",
   "id": "437bfc02",
   "metadata": {
    "editable": false
   },
   "source": [
    "In the plots, compulsory misses are purple, hits are gold, and capacity misses are light blue.\n",
    "\n",
    "The large blocks are the accesses for `size = 1024`, `size = 4096`, and `size = 16k`. \n",
    "\n",
    "In each block, each upward-slanting line is one iteration through the outer loop (they are blurred together for 1024).  As you can see, when the region of memory is larger than the cache, the whole block turns blue instead of gold."
   ]
  },
  {
   "cell_type": "markdown",
   "id": "443a44a4",
   "metadata": {
    "editable": false
   },
   "source": [
    "Let's try another experiment and increase the stride by 4x to 64 element (256 bytes) while using `1024`, `4096`, and `16384` for `size`."
   ]
  },
  {
   "cell_type": "markdown",
   "id": "2d5e8fc9",
   "metadata": {
    "editable": false
   },
   "source": [
    "# Working Sets"
   ]
  },
  {
   "cell_type": "markdown",
   "id": "06f78e59",
   "metadata": {
    "editable": false
   },
   "source": [
    "In lecture, you heard about the \"working set\" of an application, and the notion of a working set is deeply tied to temporal locality.\n",
    "The working set is the _portion of memory that the program is currently using_.  The connection between working sets and temporal locality lies in the word \"currently\" since that refers to a period of time.  In essence, the working set is the set of cache lines that a program accesses repeatedly over a period of time.\n",
    "\n",
    "One thing to note:  Without reuse, there can be no temporal locality.  A single access to a cache line has no temporal locality.\n",
    "\n",
    "Generally speaking, there will be fewer cache misses (and performance will be faster) if the working set fits in the L1 cache (or failing that, in the L2 cache)."
   ]
  },
  {
   "cell_type": "markdown",
   "id": "28963e96",
   "metadata": {
    "editable": false
   },
   "source": [
    "## Examining `std::set`"
   ]
  },
  {
   "cell_type": "markdown",
   "id": "2725f350",
   "metadata": {
    "editable": false
   },
   "source": [
    "To illustrate how working set size influences cache behavior, we'll use the `set` container object from the C++ standard template library.  Internally, `set` is implemented as a red-black binary tree.  The code below creates an `std::set` and then fills it with 4096 pseudo-random (and non-repeating) `uint64_t` values using `insert()` and then performs a bunch of queries with `find()`."
   ]
  },
  {
   "cell_type": "code",
   "execution_count": null,
   "id": "73cc1c66",
   "metadata": {
    "editable": true
   },
   "outputs": [],
   "source": [
    "\n",
    "cpp_set = build(code(r\"\"\"\n",
    "#include\"pin_tags.h\"\n",
    "#include\"cfiddle.hpp\"\n",
    "#include<set>\n",
    "#include<cstdint>\n",
    "\n",
    "extern \"C\"\n",
    "void working(uint64_t size) {\n",
    "    auto s = new std::set<uint64_t>();\n",
    "    uint64_t seed = 1;\n",
    "\n",
    "    TAG_START(\"build\", (void*)-1, 0, true);\n",
    "    for(uint x = 0; x < size; x++) {\n",
    "        auto t = fast_rand(&seed);\n",
    "        s->insert(t);\n",
    "        auto a = s->find(t);\n",
    "        TAG_GROW(\"build\",  &(*a), &(*a)+ 1);\n",
    "    }\n",
    "    TAG_STOP(\"build\");\n",
    "    \n",
    "    seed = 1;\n",
    "    start_measurement();\n",
    "    TAG_START(\"search\", (void*)-1, 0, true);\n",
    "    for(uint x = 0; x < size; x++) {\n",
    "        auto a = s->find(fast_rand(&seed));\n",
    "        TAG_GROW(\"search\", &(*a), &(*a)+ 1);\n",
    "    }\n",
    "    TAG_STOP(\"search\");\n",
    "    end_measurement();\n",
    "\n",
    "    TAG_START_ALL(\"delete\", false);\n",
    "    delete s;\n",
    "    TAG_STOP(\"delete\");\n",
    "}\n",
    "\"\"\"))\n",
    "cpp_set[0].source(\"working\")"
   ]
  },
  {
   "cell_type": "markdown",
   "id": "a1744cb4",
   "metadata": {
    "editable": false
   },
   "source": [
    "Here's what the memory trace looks like"
   ]
  },
  {
   "cell_type": "markdown",
   "id": "8ad7465b",
   "metadata": {
    "editable": false
   },
   "source": [
    "![image.png](img/Q6.png)\n",
    "\n",
    "What you are looking at is the region of the heap that the C++ standard library is allocating to hold the set.  Since, it's a tree-based structure, it's made up of many small objects that get allocated with `new`.  The heap is allocating space starting at a low address and working upward -- hence the diagonal.\n",
    "\n",
    "The color key is:\n",
    "\n",
    "* Compulsory misses are light blue\n",
    "* Hits are purple.\n",
    "* Conflict misses are gold.\n"
   ]
  },
  {
   "cell_type": "markdown",
   "id": "40cb0845",
   "metadata": {
    "cse142L.is_response": true,
    "cse142L.points": 1,
    "cse142L.question_type": "completeness",
    "deletable": false,
    "editable": true,
    "solution2": "hidden",
    "solution2_first": true
   },
   "source": [
    "<div class=\"question completeness\">\n",
    "    \n",
    "<div class=\"question-text\">\n",
    "    \n",
    "Approximately how many bytes does the `set` occupy?  What's the ratio of bytes occupied to the number of values the `set` contains?  How many bytes would be needed to store the same elements in an array?  What is the light blue line along the top slope of the triangle?\n",
    "    \n",
    "</div>\n",
    "\n",
    "<div class=\"answer\"\n",
    "    \n",
    "**Bytes for the `set`**: \n",
    "    \n",
    "**Bytes per element in the `set`:** \n",
    "    \n",
    "**Bytes to store elements:**\n",
    "    \n",
    "**What is the blue line?:**\n",
    "     \n",
    "</div>\n",
    "</div>"
   ]
  },
  {
   "cell_type": "markdown",
   "id": "e07360fd",
   "metadata": {
    "editable": false,
    "solution2": "hidden"
   },
   "source": [
    "<div class=\"solution\">\n",
    "\n",
    "**Bytes for the `set`**:  You can  \"eyeball\" it from the y-axis.  It's about 195kB\n",
    "    \n",
    "**Bytes per element in the `set`:**  The code inserts 4096 elements, so that's about `195000/4096 = 47.6`.  Which is really inefficient in terms of space!  If you ever need to store very large sets of integers, you might want to consider a different data structure.\n",
    "    \n",
    "**Bytes to store elements in array?:** Much less than this set is using: `4096 * 8 = 16384`.\n",
    "    \n",
    "**What is the blue line?:** The blue line is compulsory misses, so the cache can't help us there.  The fall on a nice line because each access to newly-allocated memory is a compulsory miss.\n",
    "    \n",
    "</div>"
   ]
  },
  {
   "cell_type": "markdown",
   "id": "9e346d9b",
   "metadata": {
    "editable": false
   },
   "source": [
    "In the code, we created two tag: `build` and `search`.  The graph shows both of them.  `Build` is the big triangle.  `search` is the rectangle on the right that's a little darker yellow."
   ]
  },
  {
   "cell_type": "markdown",
   "id": "e049f9de",
   "metadata": {
    "editable": false
   },
   "source": [
    "\n",
    "Also, recall that the green line on the vertical axis is the size of the cache that Moneta is modeling."
   ]
  },
  {
   "cell_type": "markdown",
   "id": "f32dc8fc",
   "metadata": {
    "cse142L.is_response": true,
    "cse142L.points": 2,
    "cse142L.question_type": "correctness",
    "deletable": false,
    "editable": true
   },
   "source": [
    "<div class=\"question correctness points-2\">\n",
    "    \n",
    "<div class=\"question-text\">\n",
    "    \n",
    "At the beginning of the build portion of the experiment what is miss rate?  When does it start to climb?  Why?\n",
    "\n",
    "</div>\n",
    "    \n",
    "<div class=\"answer\">\n",
    "    \n",
    "**Miss rate at the beginning?:**  \n",
    "    \n",
    "**WHen does it start to rise?:** \n",
    "    \n",
    "**Why does it climb?:**  \n",
    "    \n",
    "</div>\n",
    "</div>"
   ]
  },
  {
   "cell_type": "markdown",
   "id": "79893fae",
   "metadata": {
    "cse142L.is_response": true,
    "cse142L.points": 1,
    "cse142L.question_type": "completeness",
    "deletable": false,
    "editable": true,
    "solution2": "hidden",
    "solution2_first": true
   },
   "source": [
    "<div class=\"question completeness\">\n",
    "    \n",
    "<div class=\"question-text\">\n",
    "    \n",
    "Where are hits more concentrated on the graph?  What part of the data structure do you think they are accessing (think carefully about how `std::set` is implemented and accessed)?\n",
    "\n",
    "</div>    \n",
    "<div class=\"answer\">\n",
    "    \n",
    "**Where are they concentrated?:**  \n",
    "    \n",
    "**What part of the data structure are they accessing?  Be as specific as you can.:** \n",
    "        \n",
    "</div>\n",
    "</div>"
   ]
  },
  {
   "cell_type": "markdown",
   "id": "94d584bd",
   "metadata": {
    "editable": false,
    "solution2": "hidden"
   },
   "source": [
    "<div class=\"solution\">\n",
    "\n",
    "**Where are hits concentrated?:**  They are generally more hits near the bottom of the graph.  There's also an interesting strip of purple right under the compulsory misses during `build`.\n",
    "    \n",
    "**What part of the data structure are hits accessing?:**  These areas of memory correspond to the part of the tree closest to the root.  They are the \"hottest\" part of the tree because they are accessed very frequently:  Every insertion or query touches the root node, half of the queries touch each of the roots children, 1/4 of the queries touch each of the roots grand-children, etc.  \n",
    "  \n",
    "We know that each node in tree takes about 48 bytes, so the cache can hold about `32k /48 = 682` nodes.  That corresponds to the `log2(682) = 9.4` layers of a perfectly balanced binary tree (Red-black trees are not perfectly balanced, but they are pretty balanced).\n",
    "\n",
    "Each time we query the red black tree, the code traverses about  12 levels of the tree.   However, about 9 of them will be in the cache, something like 75% of accesses should hit in the cache.   If we doubled the size of the tree to 8192 nodes, the depth only increases by one, so the hit rate will go from `9/12 = 75%` to `9/13 = 69%`.\n",
    "    \n",
    "In your earlier classes you learned about how trees are good for performance because they have logarithmic complexity for insertion and deletion.  That's great, but their structure also provide a high degree of temporal locality because the nodes near the root are accessed so frequently.  This property is widely exploited in many different data storage systems.  For instance, databases typically store very large indexes in a tree with nodes near the root in memory (where they will be accessed quickly and frequently) and the leaves on disk (where access is slow but infrequent).\n",
    "    \n",
    "Due to some limitations of x86 performance counters, we can't measure miss rate directly.  We can measure the number of misses per query in the tree:\n",
    "    \n",
    "</div>"
   ]
  },
  {
   "cell_type": "code",
   "execution_count": null,
   "id": "5e5adb57",
   "metadata": {
    "editable": true,
    "solution2": "hidden"
   },
   "outputs": [],
   "source": [
    "\n",
    "cpp_set_run = run(cpp_set, \"working\", arg_map(size=exp_range(2, 65536, 2)),\n",
    "                  perf_counters=[\"L1-DCACHE-LOAD-MISSES\",  \"PERF_COUNT_HW_INSTRUCTIONS\",\"PERF_COUNT_HW_CPU_CYCLES\"])"
   ]
  },
  {
   "cell_type": "code",
   "execution_count": null,
   "id": "556b938f",
   "metadata": {
    "editable": true,
    "solution2": "hidden"
   },
   "outputs": [],
   "source": [
    "\n",
    "cpp_set_data= PE_calc(cpp_set_run.as_df())\n",
    "cpp_set_data['miss_per_lookup'] = cpp_set_data[\"L1_cache_misses\"]/cpp_set_data[\"size\"]\n",
    "cpp_set_data['IC_per_lookup'] = cpp_set_data[\"IC\"]/cpp_set_data[\"size\"]\n",
    "display(cpp_set_data)"
   ]
  },
  {
   "cell_type": "markdown",
   "id": "ddcfa216",
   "metadata": {
    "editable": false,
    "solution2": "hidden"
   },
   "source": [
    "<div class=\"_solution\">\n",
    "\n",
    "So it seems that each time the size of the tree doubles (above 1024 entries), it takes an additional 2 caches misses and additional ~100 instructions.\n",
    "\n",
    "Why does the number of misses start growing at 1024?  Thinking about how many bytes the tree uses to store an integer and the size of the cache.\n",
    "</div>\n"
   ]
  },
  {
   "cell_type": "markdown",
   "id": "6c1e8682",
   "metadata": {
    "editable": false
   },
   "source": [
    "# The Three C's"
   ]
  },
  {
   "cell_type": "markdown",
   "id": "0a28f2c9",
   "metadata": {
    "editable": false
   },
   "source": [
    "Recall from lecture (or review the slides) that we can classify cache misses into three  types (known as \"The Three C's\"):\n",
    "\n",
    "1.  **Compulsory**: These misses occur because the processor has not accessed this cache line before.\n",
    "\n",
    "2.  **Capacity**: These occur because the program is accessing more memory than the cache can hold (i.e., it's working set is bigger than the cache).\n",
    "\n",
    "3.  **Conflict**: These occur because a given cache line of memory can only live in one of the associative sets of the cache.\n",
    "\n",
    "## Capacity and Compulsory Misses\n",
    "\n",
    "Our investigation of spatial locality, temporal locality, and working sets illustrates compulsory and capacity misses."
   ]
  },
  {
   "cell_type": "markdown",
   "id": "80f4de7f",
   "metadata": {
    "cse142L.is_response": true,
    "cse142L.points": 1,
    "cse142L.question_type": "completeness",
    "deletable": false,
    "editable": true,
    "solution2": "hidden",
    "solution2_first": true
   },
   "source": [
    "<div class=\"question completeness\">\n",
    "    \n",
    "<div class=\"question-text\">\n",
    "    \n",
    "Look back over the Moneta graphs in previous sections of this lab and grab screen captures of the parts of the graphs that illustrate compulsory and capacity misses.  Paste them below and describe why the illustrate each kind of miss.\n",
    "</div>\n",
    "    \n",
    "<div class=\"answer\">\n",
    "    \n",
    "**Compulsory**\n",
    "    \n",
    "**Capacity**\n",
    "    \n",
    "</div>\n",
    "</div>"
   ]
  },
  {
   "cell_type": "markdown",
   "id": "965d2efb",
   "metadata": {
    "editable": false,
    "solution2": "hidden"
   },
   "source": [
    "<div class=\"solution\">\n",
    "\n",
    "**Compulsory** The misses that occur in the first time through the inner loop of `stride()` are all compulsory misses.\n",
    "\n",
    "![image.png](img/compulsory.png)\n",
    "\n",
    "</div>"
   ]
  },
  {
   "attachments": {
    "image.png": {
     "image/png": "[encoded data removed]"
    }
   },
   "cell_type": "markdown",
   "id": "3be18d1a",
   "metadata": {
    "editable": false,
    "solution2": "hidden"
   },
   "source": [
    "<div class=\"_solution\">\n",
    "\n",
    "**Capacity** In the same experiment, we saw that when the number of cachelines accessed exceeds the number of cache lines in the cache, we get many misses.  The parts highlighted in purple are all capacity misses:\n",
    "    \n",
    "![image.png](attachment:image.png)   \n",
    "</div>"
   ]
  },
  {
   "cell_type": "markdown",
   "id": "edfc06d1",
   "metadata": {
    "editable": false
   },
   "source": [
    "## Conflict Misses"
   ]
  },
  {
   "cell_type": "markdown",
   "id": "99daeb7d",
   "metadata": {
    "editable": false
   },
   "source": [
    "Let's try to produce some conflict misses.  In the last lab, we used a miss machine to generate lots of misses.  They were mostly capacity misses (i.e., we accessed too many cache lines), and the miss machine let us produce lots of seemingly random accesses really fast.  For conflict misses, we need something different:  Highly-organized misses placed precisely.\n",
    "\n",
    "The necessary ingredient for lots of conflict misses is many memory accesses that will map to the same associative set in the cache.  If we access many of these cache lines, the associative set will \"overflow\" and that will causes misses."
   ]
  },
  {
   "cell_type": "markdown",
   "id": "2f3b73f7",
   "metadata": {
    "cse142L.is_response": true,
    "cse142L.points": 1,
    "cse142L.question_type": "completeness",
    "deletable": false,
    "editable": true,
    "solution2": "hidden",
    "solution2_first": true
   },
   "source": [
    "<div class=\"question completeness\">\n",
    "\n",
    "<div class=\"question-text\">\n",
    "    \n",
    "Assume our 32kB cache with 64-byte lines and 8-way associativity and 64-bit addresses.  Given an address $A$, how can we compute a new address, $B$, that will map to the same associative set but is not part of the same cache line as $A$?  Given an index, $i$, into an array, how can we compute the index of another element, $j$, that will conflict with the first?\n",
    "\n",
    "</div>\n",
    "<div class=\"answer\">\n",
    "\n",
    "**How do you compute `B`?**\n",
    "\n",
    "**How do you compute `j`?**\n",
    "\n",
    "</div>\n",
    "</div>"
   ]
  },
  {
   "cell_type": "markdown",
   "id": "ba27d8a6",
   "metadata": {
    "editable": false,
    "solution2": "hidden"
   },
   "source": [
    "<div class=\"solution\">\n",
    "\n",
    "From our earlier discussion, we know we have:\n",
    "    \n",
    "1.  `log2(64) = 6` offset bits.\n",
    "2.  `32kB/64B = 512` cache lines.\n",
    "3.  `512/8 = 64` associative sets.\n",
    "4.  `log2(64) = 6` index bits.\n",
    "5.  `64-6-6 = 52` tag bits.\n",
    "\n",
    "We also know that two addresses are in the same cache line if their `tag` and `index` bits match and that they map to the same associative set if they have the same `index`.  So, we need $B$ to have the same `index` but a different tag.  The first tag bit is in position `offset bits + index bits = 12`, so adding $2^{12} = 4096$  to $A$ will give $B$ a different `tag` and an identical `index`, which is just what we needed!\n",
    "\n",
    "Computing the index of a conflicting element is easy:  We just divide $2^{12}$ by the size of the elements of the array.  For `uint32_t`, we get $2^{12}/4 = 1024$, so $j = i + 1024$.\n",
    "\n",
    "</div>"
   ]
  },
  {
   "cell_type": "markdown",
   "id": "1ebcbdf3",
   "metadata": {
    "editable": false
   },
   "source": [
    "Let's see if your formula worked.  We'll run `stride()` from earlier with a stride of 16 and 1024.  In the experiment below we set `size` so that we cover 64 strides worth of the memory, since both strides are larger than cache line, each execution of the loop will touch 64 cache lines."
   ]
  },
  {
   "cell_type": "code",
   "execution_count": null,
   "id": "d55c8458",
   "metadata": {
    "editable": true
   },
   "outputs": [],
   "source": [
    "\n",
    "display(stride[0].source(\"stride\"))\n",
    "\n",
    "conflict_run = run(stride, \"stride\", arg_map(size=16*64, stride_size=16, reps=1000),\n",
    "                  perf_counters=[\"L1-DCACHE-LOAD-MISSES\",  \"PERF_COUNT_HW_INSTRUCTIONS\",\"PERF_COUNT_HW_CPU_CYCLES\"])\n",
    "conflict_run2 = run(stride, \"stride\", arg_map(size=1024*64, stride_size=1024, reps=1000),\n",
    "                   perf_counters=[\"L1-DCACHE-LOAD-MISSES\",  \"PERF_COUNT_HW_INSTRUCTIONS\",\"PERF_COUNT_HW_CPU_CYCLES\"])"
   ]
  },
  {
   "cell_type": "code",
   "execution_count": null,
   "id": "6d63d51f",
   "metadata": {
    "editable": true
   },
   "outputs": [],
   "source": [
    "\n",
    "conflict_data = PE_calc((conflict_run + conflict_run2).as_df())\n",
    "display(conflict_data)"
   ]
  },
  {
   "cell_type": "code",
   "execution_count": null,
   "id": "1f24865b",
   "metadata": {
    "editable": true
   },
   "outputs": [],
   "source": [
    "\n",
    "plotPEBar(df=conflict_data, what=[(\"stride_size\", \"L1_MPI\"),(\"stride_size\", \"L1_cache_misses\"), (\"stride_size\", \"CPI\"), (\"stride_size\", \"ET\")])"
   ]
  },
  {
   "cell_type": "markdown",
   "id": "05a34eb7",
   "metadata": {
    "editable": false
   },
   "source": [
    "That worked pretty well!:  We got a lot more L1 cache misses."
   ]
  },
  {
   "cell_type": "markdown",
   "id": "5ab93f90",
   "metadata": {
    "cse142L.is_response": true,
    "cse142L.points": 1,
    "cse142L.question_type": "completeness",
    "deletable": false,
    "editable": true,
    "solution2": "hidden",
    "solution2_first": true
   },
   "source": [
    "<div class=\"question completeness\">\n",
    "    \n",
    "<div class=\"question-text\">\n",
    "    \n",
    "Based on the analysis above, what do you think will happen if the stride is one cache line longer (1040 bytes) or or one cache line shorter (1008 bytes)?  Why?\n",
    "    \n",
    "</div>\n",
    "    \n",
    "<div class=\"answer\">\n",
    "    \n",
    "**Stride 1008:**\n",
    "    \n",
    "**Stride 1040:**\n",
    "    \n",
    "</div>\n",
    "    \n",
    "</div>"
   ]
  },
  {
   "cell_type": "markdown",
   "id": "a11dc7bd",
   "metadata": {
    "editable": false,
    "solution2": "hidden"
   },
   "source": [
    "<div class=\"solution\">\n",
    "\n",
    "In the analysis analysis above, we chose 1024 because it was $2^{12}/\\mathrm{sizeof(uint32\\_t)}$, and we choose $2^{12}$ because that stride size would change the tag bits without changing the index bits.  And this, in turn, would cause all the cache lines to fall in a single associative set.  A look at the binary representation of $2^{12}$ shows with this is true: `1 0000 0000 0000b`. (the `b` means binary).  Since there are no 1's in low order bits, adding $2^{12}$ won't change the index or offset.\n",
    "    \n",
    "For stride 1040 in an array of `uint32_t`, the number of bytes in stride is 4160:  Let's look at 4160 in binary: `1 0000 0100 0000b`.  It has 1 down there, so adding it _will_ change the index.  So, the cache lines _will not_ fall into a single associative set.  Hence, cache misses should much lower.\n",
    "   \n",
    "Let's see what happens:\n",
    "</div>\n"
   ]
  },
  {
   "cell_type": "code",
   "execution_count": null,
   "id": "0d02a2e9",
   "metadata": {
    "editable": true,
    "solution2": "hidden"
   },
   "outputs": [],
   "source": [
    "\n",
    "stride_1008 = run(stride, \"stride\", arg_map(size=1025*64, stride_size=1008, reps=1000),\n",
    "                  perf_counters=[\"L1-DCACHE-LOAD-MISSES\",  \"PERF_COUNT_HW_INSTRUCTIONS\",\"PERF_COUNT_HW_CPU_CYCLES\"])\n",
    "stride_1040 = run(stride, \"stride\", arg_map(size=1023*64, stride_size=1040, reps=1000),\n",
    "                   perf_counters=[\"L1-DCACHE-LOAD-MISSES\",  \"PERF_COUNT_HW_INSTRUCTIONS\",\"PERF_COUNT_HW_CPU_CYCLES\"])"
   ]
  },
  {
   "cell_type": "code",
   "execution_count": null,
   "id": "1f000d75",
   "metadata": {
    "editable": true,
    "solution2": "hidden"
   },
   "outputs": [],
   "source": [
    "conflict_data = PE_calc((conflict_run + conflict_run2 + stride_1008 + stride_1040).as_df())\n",
    "display(conflict_data)\n",
    "plotPEBar(df=conflict_data, what=[(\"stride_size\", \"L1_MPI\"),(\"stride_size\", \"L1_cache_misses\"), (\"stride_size\", \"CPI\"), (\"stride_size\", \"ET\")])"
   ]
  },
  {
   "cell_type": "markdown",
   "id": "6f5e5bfb",
   "metadata": {
    "editable": false,
    "solution2": "hidden"
   },
   "source": [
    "<div class=\"_solution\">\n",
    "    \n",
    "The number of misses per instruction is almost identical to the stride-16 case!\n",
    "    \n",
    "</div>"
   ]
  },
  {
   "cell_type": "markdown",
   "id": "8d231cb5",
   "metadata": {
    "editable": false
   },
   "source": [
    "The main lesson here is that conflict misses are largely a product of bad luck if the working set is smaller than the cache:  It may happen that for a particular cache capacity, associativity, and line size, that many cache lines in the application's working set happen to map to the same associative set.\n",
    "\n",
    "Fortunately, in modern processors caches are pretty highly-associative (ours is 8-way) and at that level of associativity conflict misses are not a huge problem.  If your working set is smaller than your cache's capacity, you'd have to be very unlucky to have enough cache lines land in the same associative set to cause many conflict misses.  If your working set is larger than your cache, you're going to have misses regardless.  As the example above shows, it is not hard to construct programs with small working sets that are unlucky.  We have a term for these access patterns:  We say they are \"pathological\".\n",
    "\n",
    "By definition, pathological access patterns are rare, so we don't spend too much time worrying about them.  But they can crop up and it's a good idea to be aware of the possibility."
   ]
  },
  {
   "cell_type": "markdown",
   "id": "20f3b9be",
   "metadata": {
    "cse142L.is_response": true,
    "cse142L.question_type": "optional",
    "deletable": false,
    "editable": true
   },
   "source": [
    "<div class=\"question optional\">\n",
    "\n",
    "<div class=\"question-text\">\n",
    "\n",
    "Consider the implementation of `tensor_t` described earlier in the lab.  Accessing a tensor column-wise produces strided accesses which could lead to conflict misses if the dimensions of the tensor are \"unlucky\".  Why is this so?  What constitutes \"unlucky\" dimensions?  How could you modify `tensor_t` to make it (mostly) immune to \"unlucky\" dimensions?\n",
    "    \n",
    "</div>\n",
    "</div>"
   ]
  },
  {
   "cell_type": "markdown",
   "id": "59306d8b",
   "metadata": {
    "editable": false
   },
   "source": [
    "# The L2 and L3 Caches"
   ]
  },
  {
   "cell_type": "markdown",
   "id": "e65ba2a0",
   "metadata": {
    "editable": false
   },
   "source": [
    "So far in these two labs, we have focused on the L1 cache, but our machine also has L2 and L3 caches.  Here's how they are organized:\n",
    "\n",
    "![image.png](img/cacheorg.png)\n",
    "\n",
    "As a reminder, the L1 is 32kB, 8-way set associative, with 64-byte lines.  So, there are 512 cache lines divided into 64 associative sets.\n",
    "\n",
    "The L1 and L2 are private to each core while the L3 is shared among all the cores on the CPU.  The L2 is 256kB and is 8-way set associative.  The L3 is 2MB per core, but it's shared across all the cores.  Our machine has six cores, so 12MB.\n",
    "\n",
    "On our machine, the L3 is the \"last level cache\" or LLC.  The LLC is the cache just before DRAM.  On some processors the LLC is the L2.\n",
    "\n",
    "The code below is similar to the `stride` function we used in the previous lab.  The change is that the outer loop is set up so we do the same number of memory accesses for all values of `size` (This is why we divide by `size`).  Our goal is to measure the L1 and L3 MPI as size increases.  The CPU's performance counters don't let us collect L1 and L3 statistics at the same time, so we have to run the experiment once for each cache. \n",
    "\n",
    "Why don't we measure L2 MPI?  Well, there aren't great performance counters for the L2 on our machine."
   ]
  },
  {
   "cell_type": "markdown",
   "id": "d482de08",
   "metadata": {
    "cse142L.is_response": true,
    "cse142L.points": 1,
    "cse142L.question_type": "completeness",
    "deletable": false,
    "editable": true
   },
   "source": [
    "<div class=\"question completeness\">\n",
    "    \n",
    "<div class=\"question-text\">\n",
    "    \n",
    "As `size` increases, the miss rate for the L1 and L3 will rise.  At what value of `size` would you expect to see significant increases in L1 and L3 MPI?\n",
    "</div>\n",
    "    \n",
    "<div class=\"answer\">\n",
    "\n",
    "**L1 critical `size`:**\n",
    "\n",
    "**L3 critical `size`:**\n",
    "    \n",
    "</div>\n",
    "</div>"
   ]
  },
  {
   "cell_type": "markdown",
   "id": "2447711f",
   "metadata": {
    "editable": false
   },
   "source": [
    "Let's see how we do:"
   ]
  },
  {
   "cell_type": "code",
   "execution_count": null,
   "id": "eabdac94",
   "metadata": {
    "editable": true
   },
   "outputs": [],
   "source": [
    "\n",
    "L13 = build(code(r\"\"\"\n",
    "#include\"cfiddle.hpp\"\n",
    "#include\"tensor_t.hpp\"\n",
    "#include<cstdint>\n",
    "\n",
    "extern \"C\"\n",
    "void L13(uint64_t size, uint64_t stride_size) {\n",
    "    tensor_t<uint32_t> t(size,1,1,1);\n",
    "    start_measurement();\n",
    "    for(uint64_t i = 0; i < (1 << 27)/size; i++) {\n",
    "        for(uint x = 0; x < size; x+=stride_size) {\n",
    "            t.get(x,0,0,0) = 0;\n",
    "        }\n",
    "    }\n",
    "    end_measurement();\n",
    "}\n",
    "\n",
    "\"\"\"), arg_map(OPTIMIZE=\"-O1\"))\n",
    "\n",
    "L1 = run(L13, \"L13\", arg_map(size=exp_range(16,1024*1024*128,2), stride_size=16), \n",
    "         perf_counters=[\"L1-DCACHE-LOAD-MISSES\",  \"PERF_COUNT_HW_INSTRUCTIONS\",\"PERF_COUNT_HW_CPU_CYCLES\"])\n",
    "\n",
    "L3 = run(L13, \"L13\", arg_map(size=exp_range(16,1024*1024*128,2), stride_size=16),\n",
    "             perf_counters=[\"LLC-LOAD-MISSES\",  \"LLC-STORE-MISSES\", \"PERF_COUNT_HW_INSTRUCTIONS\",\"PERF_COUNT_HW_CPU_CYCLES\"])"
   ]
  },
  {
   "cell_type": "code",
   "execution_count": null,
   "id": "4aa0db88",
   "metadata": {
    "cse142L.is_response": true,
    "deletable": false,
    "editable": false
   },
   "outputs": [],
   "source": [
    "\n",
    "display(PE_calc(L1.as_df()))\n",
    "display(PE_calc(L3.as_df()))\n",
    "plotPE(df=PE_calc(L1.as_df()), what=[(\"size\", \"L1_cache_misses\"), (\"size\", \"CPI\"), (\"size\", \"ET\")], lines=True, logx=2)\n",
    "plotPE(df=PE_calc(L3.as_df()), what=[(\"size\", \"L3_cache_misses\"), (\"size\", \"CPI\"), (\"size\", \"ET\")], lines=True, logx=2)"
   ]
  },
  {
   "cell_type": "markdown",
   "id": "27f1cafe",
   "metadata": {
    "cse142L.is_response": true,
    "cse142L.points": 1,
    "cse142L.question_type": "completeness",
    "deletable": false,
    "editable": true
   },
   "source": [
    "<div class=\"question completeness\">\n",
    "    \n",
    "<div class=\"question-text\">\n",
    "    \n",
    "Do the data match your prediction?   If not, how did it differ?\n",
    "    \n",
    "</div>\n",
    "    \n",
    "<div class=\"answer\">\n",
    "\n",
    "**L1 prediction correct?:**\n",
    "\n",
    "**L3 prediction correct?:**\n",
    "    \n",
    "</div>\n",
    "</div>"
   ]
  },
  {
   "cell_type": "markdown",
   "id": "20d2d9d7",
   "metadata": {
    "editable": false
   },
   "source": [
    "The graphs also include CPI, which should, in theory, be the same since we just ran the same code twice with different performance counters.  You can see the small increase when the L1 hit increases, and the larger bump with misses in the L3."
   ]
  },
  {
   "cell_type": "markdown",
   "id": "f342e26a",
   "metadata": {
    "cse142L.is_response": true,
    "cse142L.points": 2,
    "cse142L.question_type": "correctness",
    "deletable": false,
    "editable": true
   },
   "source": [
    "<div class=\"question correctness points-2\">\n",
    "    \n",
    "#### Based on this data, how much speedup could you expect from reducing your working set size (in bytes) from...\n",
    "    \n",
    "<div class=\"answer\">\n",
    "\n",
    "**8MB to 4MB?:** \n",
    "\n",
    "**2MB to 512kB?:**  \n",
    "    \n",
    "**2MBkB to 128kB?:** \n",
    "\n",
    "**128MB to 32kB?:** \n",
    "    \n",
    "\n",
    "</div>\n",
    "</div>"
   ]
  },
  {
   "cell_type": "markdown",
   "id": "432224eb",
   "metadata": {
    "editable": false
   },
   "source": [
    "# The TLB"
   ]
  },
  {
   "cell_type": "markdown",
   "id": "2002a670",
   "metadata": {
    "editable": false
   },
   "source": [
    "The three levels of on-chip caches set the number of _cache lines_ the processor can quickly access.  As you heard in 142, though, there is another kind of cache in the processor:  the TLB.   Instead of data, the TLB caches the translations from virtual addresses to physical addresses, and its size sets the number of _pages_ your program can access quickly.\n",
    "\n",
    "Here's what our processor has:\n",
    "\n",
    "1. 64 entries for 4kB pages (256kB total)\n",
    "2. An L2 TLB with 1024 entries (8-way set associative; 4MBs total @ 4kB pages).\n",
    "3. 32 entries for 2MB pages (64MB total).\n",
    "4. 4 entries for 1GB pages (4GB total).\n",
    "\n",
    "This is a little more complicated than what you heard about in 142.  First off, there is an L1 TLB _and_ an L2 TLB.  If we think of the L1 TLB as cache for memory translations, then the L2 TLB is exactly analogous to the L2 cache:  If the processor has a TLB miss in the L1 TLB, it can look in the L2 TLB.  One important point:  memory address translation _always_ happens at the L1 cache because _all_ the caches are physically tagged.  This means that the L2 TLB _has nothing to do with the L2 Cache_.  \n",
    "\n",
    "The L2 TLB can cover 4MBs worth of 4kB pages of virtual address space.  If you are using more pages than that, you'll get TLB misses and your performance will suffer. \n",
    "\n",
    "Here's a fun idea!:  Let's use a miss machine to measure the L1 TLB miss latency.\n",
    "\n",
    "The code below is a version of our miss machine from the last lab but with a few changes:\n",
    "\n",
    "1.  It has a template-configurable link size (`BYTES`).\n",
    "2.  We allocate the `MM` links in array that 4096-byte aligned.\n",
    "3.  We use [`madvise()`](https://man7.org/linux/man-pages/man2/madvise.2.html) to prevent us from using 2MB pages, which Linux will automatically use when it can.  We'll come back to that.\n",
    "4.  We can set the _total size_ of the miss machine _in bytes_ with the `size` parameter.  It should be a multiple of `BYTES`.\n",
    "\n",
    "Read through the code to make sure it makes sense."
   ]
  },
  {
   "cell_type": "code",
   "execution_count": null,
   "id": "c3dfad64",
   "metadata": {
    "editable": true,
    "init_cell": true
   },
   "outputs": [],
   "source": [
    "tlb = build(\"TLB.cpp\", arg_map(OPTIMIZE=\"-O1\"))\n",
    "tlb[0].source(show=(\"//START\", \"//END\"))"
   ]
  },
  {
   "cell_type": "markdown",
   "id": "00df82cf",
   "metadata": {
    "editable": false
   },
   "source": [
    "There are two parameters we need to set:  The size of `MM` (`BYTES` in the code above) and the `size`.\n",
    " \n",
    "Here's what the `miss()` function looks like for `BYTES = 4096`.  It should be familiar from Lab 3 (note that we have use the mangled name):"
   ]
  },
  {
   "cell_type": "code",
   "execution_count": null,
   "id": "da5d804f",
   "metadata": {
    "editable": true
   },
   "outputs": [],
   "source": [
    "tlb[0].cfg(\"MM_4096ul__miss_MM_4096ul____MM_4096ul___unsigned_long_\")"
   ]
  },
  {
   "cell_type": "markdown",
   "id": "0e202325",
   "metadata": {
    "cse142L.is_response": true,
    "cse142L.points": 1,
    "cse142L.question_type": "completeness",
    "deletable": false,
    "editable": true,
    "solution2": "hidden",
    "solution2_first": true
   },
   "source": [
    "<div class=\"question completeness\">\n",
    "    \n",
    "<div class=\"question-text\">\n",
    "    \n",
    "Using the code above, what values of `BYTES` and `size` should we run the miss machine with to measure the L1-TLB miss latency?  (The fact that there are two experiments listed is a hint that you'll need to run two different experiments.)\n",
    "    \n",
    "</div>\n",
    "   \n",
    "<div class=\"answer\">\n",
    "\n",
    "|| `BYTES` | `size` |\n",
    "|--|------------|--|\n",
    "|Experiment 1| | |\n",
    "|Experiment 2| | |\n",
    "    \n",
    "</div>\n",
    "</div>"
   ]
  },
  {
   "cell_type": "markdown",
   "id": "1a658678",
   "metadata": {
    "editable": false,
    "solution2": "hidden"
   },
   "source": [
    "<div class=\"solution\">\n",
    "\n",
    "We are trying to measure the L1 TLB miss latency.  What is that exactly?  It's the difference in latency between an L1 cache hit that hits in the TLB and an L1 cache hit that misses in the TLB.  We want the accesses to be cache _hits_ because otherwise, our measurement might include the L1 cache miss latency as well.\n",
    "    \n",
    "So, we need to take two measurements.  For the first, we want to ensure that there are no TLB misses and no L1 cache misses.  For the second measurement, we would like there to be many TLB misses and no L1 cache misses.\n",
    "    \n",
    "**No L1-TLB misses/No L1 cache misses:**  Pretty easy.  We could make `MM` occupy 8 bytes and set `size` to 8B.   This would create a miss machine with a single link, which would result in no misses of any kind.  We could also set `size = 4096` (or actually any thing less than 32kB) and the effect would be the same.\n",
    "    \n",
    "**Many L1 TLB misses/No L1 cache misses** This is trickier:  We need to spread our accesses across many more than 64 4kB pages (to have lots of TLB misses) but we need to access no more than 512 cache lines (so they will all fit in the L1 cache).  Fortunately, 512 is much larger than 64, so we can access one cache line in each of 512 pages.\n",
    "    \n",
    "A good first try would be to set `size` to 512*4kB and `BYTES` to 4096.  That way, each `MM` will occupy one page.  Let's try that!\n",
    "    \n",
    "The code below will invoke `TLB_4096` with `size = 4096` (1 page) and `size = 512*4096` (512 pages).  Here's the code for `TLB_4096`:\n",
    "    "
   ]
  },
  {
   "cell_type": "code",
   "execution_count": null,
   "id": "13823634",
   "metadata": {
    "editable": true,
    "init_cell": true,
    "solution2": "hidden"
   },
   "outputs": [],
   "source": [
    "tlb[0].source(\"TLB_4096\")"
   ]
  },
  {
   "cell_type": "code",
   "execution_count": null,
   "id": "9660498f",
   "metadata": {
    "editable": true,
    "solution2": "hidden"
   },
   "outputs": [],
   "source": [
    "\n",
    "TLB1 = run(tlb, \"TLB_4096\", arg_map(size=[4096, 512*4096], access_count=128*1024*1024),\n",
    "           perf_counters=[\"L1-DCACHE-LOAD-MISSES\",  \"PERF_COUNT_HW_INSTRUCTIONS\",\"PERF_COUNT_HW_CPU_CYCLES\"])\n",
    "TLB1_data = PE_calc(TLB1.as_df())\n",
    "           \n",
    "TLB1_data[\"load_latency_cyc\"] = TLB1_data[\"cycles\"]/TLB1_data[\"access_count\"]\n",
    "TLB1_data[\"load_latency_ns\"] = TLB1_data[\"load_latency_cyc\"]*TLB1_data['CT']*1e9\n",
    "display(TLB1_data)"
   ]
  },
  {
   "cell_type": "markdown",
   "id": "54a57f1f",
   "metadata": {
    "editable": false,
    "solution2": "hidden"
   },
   "source": [
    "<div class=\"_solution\">\n",
    "    \n",
    "In this data, changing `size` from 4096 to 512*4096 (2,097,152) increased CPI from 1 to 13. And load latency seems to have increased by 13x to 52 cycles. But let's check our data more closely.  Did the experiments a achieve our goals?\n",
    "\n",
    "The first line looks pretty good. Last lab we saw that L1 hit latency was 4 cycles, which is what we see in the last column.   Also, note that L1 cache misses are very low (i.e., `L1_MPI` is very low).\n",
    "    \n",
    "The second line, however, was supposed to have low L1 hits _and_ high TLB misses.  The `L1_MPI` is quite high: 0.25. Since there are only 4 instructions in the `miss()` loop, that means all the loads are missing in the L1.  But wait, we only have 512 links in our miss machine -- they should all fit in our cache at once!  What's going on?!?!?  Think carefully about what's going on before you read the next paragraph.\n",
    "\n",
    "\n",
    "    \n",
    "The problem is conflict misses:  since all the `MM` links are 4kB aligned, they fall into a small number of associative sets in the L1.  Hence, cache misses!  \n",
    "\n",
    "To fix this, we can increase the size of `MM` by one cache line to 4160 bytes.  That will ensure that the `MM` structs are spread across all the associative sets (If this doesn't make sense, working out the cache indexes of `MM` structs of size 4096 vs 4160 should help clear it up.).  Here's the experiment:"
   ]
  },
  {
   "cell_type": "code",
   "execution_count": null,
   "id": "1c7f50c7",
   "metadata": {
    "editable": true,
    "solution2": "hidden"
   },
   "outputs": [],
   "source": [
    "\n",
    "TLB2 = run(tlb, \"TLB_4160\", arg_map(size=[4160, 512*4160], access_count=128*1024*1024),\n",
    "       perf_counters=[\"L1-DCACHE-LOAD-MISSES\",  \"PERF_COUNT_HW_INSTRUCTIONS\",\"PERF_COUNT_HW_CPU_CYCLES\"])\n",
    "TLB2_data = PE_calc(TLB2.as_df())\n",
    "           \n",
    "TLB2_data[\"load_latency_cyc\"] = TLB2_data[\"cycles\"]/TLB2_data[\"access_count\"]\n",
    "TLB2_data[\"load_latency_ns\"] = TLB2_data[\"load_latency_cyc\"]*TLB2_data['CT']*1e9\n",
    "display(TLB2_data)"
   ]
  },
  {
   "cell_type": "markdown",
   "id": "6c1c6b4b",
   "metadata": {
    "editable": false,
    "solution2": "hidden"
   },
   "source": [
    "<div class=\"_solution\">\n",
    "    \n",
    "This looks better.  The first line is essentially unchanged.\n",
    "\n",
    "The second line is much improved: `L1_MPI` is very low.\n",
    "\n",
    "The new load latency with the L1 TLB misses is 13 cycles -- 9 more than the baseline L1 latency, so an L1 TLB misses takes 9 cycles or about 2.6 ns.\n",
    "\n",
    "</div>"
   ]
  },
  {
   "cell_type": "markdown",
   "id": "6cd4fa4d",
   "metadata": {
    "cse142L.is_response": true,
    "cse142L.question_type": "optional",
    "deletable": false,
    "editable": true
   },
   "source": [
    "<div class=\"question optional\">\n",
    "    \n",
    "<div class=\"question-text\">\n",
    "\n",
    "The measurement above is for a miss to the L1 TLB.  Perform a different experiment to measure the L2 TLB miss latency.  This is harder than it appears at first.\n",
    "    \n",
    "</div>\n",
    "    \n",
    "</div>\n",
    "    "
   ]
  },
  {
   "cell_type": "markdown",
   "id": "c34c39af",
   "metadata": {
    "cse142L.is_response": true,
    "cse142L.question_type": "optional",
    "deletable": false,
    "editable": true
   },
   "source": [
    "<div class=\"question optional\">\n",
    "    \n",
    "<div class=\"question-text\">\n",
    "\n",
    "The measurements above are based on 4kB pages, but we can also use 2MB \"huge pages\".  Repeat the experiment above to determine whether 2MB TLB entries can also reside in the L2 TLB.      \n",
    "</div>\n",
    " \n",
    "<div class=\"answer\">\n",
    "\n",
    "A few notes:\n",
    "    \n",
    "1.  This one is a little involved.  You'll need to significantly tweak the experiments we did above.\n",
    "2.  Whether 2MB TLB entries can be in the in the L2 TLB is not clearly specified in any documents I have found, so I don't know the answer.\n",
    "3.  To get the system to use 2MB huge pages, remove the call to `madvise()` in `TLB.cpp` and ask `posix_memalign()` to give 2MB-aligned memory.\n",
    "4.  Look in `TLB.cpp` for examples of how to change `BYTES`.  `TLB_2M()` is a good starting point.\n",
    "\n",
    "</div>\n",
    "</div>\n",
    "    "
   ]
  },
  {
   "cell_type": "markdown",
   "id": "f226cbae",
   "metadata": {
    "editable": false
   },
   "source": [
    "# Optimizing For Locality"
   ]
  },
  {
   "cell_type": "markdown",
   "id": "29a92741",
   "metadata": {
    "editable": false
   },
   "source": [
    "Minimizing cache misses is critical for maximizing performance because, as you have seen, even a small number of misses can inflate `CPI` and `ET`.  As a result, programmers who are concerned about performance often spend a lot of effort optimizing their code to reduce misses.\n",
    "\n",
    "Below, we'll take a look a two common optimizations that aim to increase locality:  Loop reordering and tiling.  \n",
    "\n",
    "In the compiler lab, you explored several other optimizations that compilers apply very effectively.  While there are compilers that apply these (and other) locality optimizations, many do not, and even when they do, these locality optimizations do not work as effectively when applied automatically, so performance-obsessed programmers often apply locality optimizations by hand (but, of course, only when profiling and Amdahl's law demonstrates it's potentially profitable!).\n",
    "\n",
    "## Loop Renesting\n",
    "\n",
    "Loop reordering or \"re-nesting\" is an optimization that changes the order in which loops are nested to improve locality.  For instance, consider the code below.  It initializes a 2D tensor, but it does it twice:  The first time, the loop for `x` is on the outside of the loop nest.  The second time, `x` is on the inside."
   ]
  },
  {
   "cell_type": "code",
   "execution_count": null,
   "id": "5480962f",
   "metadata": {
    "editable": true
   },
   "outputs": [],
   "source": [
    "renest = build(code(r\"\"\"\n",
    "#include\"cfiddle.hpp\"\n",
    "#include\"tensor_t.hpp\"\n",
    "#include\"util.hpp\"\n",
    "#include<cstdint>\n",
    "\n",
    "extern \"C\"\n",
    "void x_inside(uint64_t size, uint64_t rows) {\n",
    "    tensor_t<uint32_t> t(size/rows,rows,1,1);\n",
    "    disable_prefetcher();\n",
    "    flush_caches();\n",
    "    start_measurement();\n",
    "    for(uint y = 0; y < rows; y++) {\n",
    "        for(uint x = 0; x < size/rows; x++) {\n",
    "            t.get(x,y,0,0) = x;\n",
    "        }\n",
    "    }\n",
    "    end_measurement();\n",
    "    \n",
    "}\n",
    "\n",
    "\n",
    "extern \"C\"\n",
    "void x_outside(uint64_t size, uint64_t rows) {\n",
    "    tensor_t<uint32_t> t(size/rows,rows,1,1);\n",
    "    disable_prefetcher();\n",
    "    flush_caches();\n",
    "    start_measurement();\n",
    "    for(uint x = 0; x < size/rows; x++) {\n",
    "        for(uint y = 0; y < rows; y++) {\n",
    "            t.get(x,y,0,0) = x;\n",
    "        }\n",
    "    }\n",
    "    end_measurement();\n",
    "    \n",
    "}\n",
    "\n",
    "\"\"\"), arg_map(OPTIMIZE=\"-O1\"))\n",
    "renest[0].source()\n",
    "               "
   ]
  },
  {
   "cell_type": "markdown",
   "id": "3316980f",
   "metadata": {
    "editable": false
   },
   "source": [
    "Here's the memory trace for `x_inside`:\n",
    "\n",
    "![x_inside.jpg](img/x_inside.jpg)"
   ]
  },
  {
   "cell_type": "markdown",
   "id": "abe873d5",
   "metadata": {
    "editable": false
   },
   "source": [
    "And here it is for `x_outside()`:\n",
    "\n",
    "![x_outside.jpg](img/x_outside.jpg)"
   ]
  },
  {
   "cell_type": "markdown",
   "id": "8ebad35b",
   "metadata": {
    "editable": false
   },
   "source": [
    "Remarkably, those two plots contain exactly the same memory accesses, they are just distributed differently through time.\n",
    "\n",
    "Recall from our earlier discussion of `tensor_t`, that incrementing the first argument to `get()` corresponds to moving to the next element in the underlying array of data.  In the code above, `x` is the first argument to `get()`, so putting the `x` loop inside leads to better spatial locality.\n",
    "\n",
    "You can see this reflected in the traces more clearly if we zoom in:  With `x` on the inside, the program marches linearly through memory:\n",
    "\n",
    "![zoom_x_inside.jpg](img/zoom_x_inside.png)\n",
    "\n",
    "See how both the range of the horizontal and vertical axes are both quite small.  This means that the accesses close in space and time.\n",
    "\n",
    "With the `x` loop outside, it takes large strides through the array, and accesses to the addresses are spread out over a long time (note the much larger range on both axes:\n",
    "\n",
    "![zoom_x_outside.jpg](img/zoom_x_outside.png)\n",
    "\n",
    "\n",
    "In particular, it doesn't access the same 64 byte cache line again until long after it has been evicted from the cache."
   ]
  },
  {
   "cell_type": "markdown",
   "id": "bdf9cdac",
   "metadata": {
    "cse142L.is_response": true,
    "cse142L.points": 1,
    "cse142L.question_type": "completeness",
    "deletable": false,
    "editable": true,
    "solution2": "hidden",
    "solution2_first": true
   },
   "source": [
    "<div class=\"question completeness\">\n",
    "   \n",
    "<div class=\"question-text\">\n",
    "\n",
    "What value of the `rows` argument to `x_outside()` should result in a very high (e.g., > 95%) hit rate?  Try to reason through the correct value before running any experiments.\n",
    "\n",
    "</div>\n",
    "    \n",
    "<div class=\"answer\">\n",
    "\n",
    "\n",
    "</div>\n",
    "\n",
    "</div>"
   ]
  },
  {
   "cell_type": "markdown",
   "id": "29abc3c6",
   "metadata": {
    "editable": false,
    "solution2": "hidden"
   },
   "source": [
    "<div class=\"solution\">\n",
    "    \n",
    "Recall how `tensor_t` accesses it's internal array.  For the function above, the index calculation becomes:\n",
    "    \n",
    "`index = y * size/rows + x;`\n",
    "    \n",
    "When the `x` loop is on the outside, the first iteration of the `y` loop code brings in a cache line and uses one element.  The next iteration of the `y` loop accesses an element that is `size/rows` elements away.  As long as `size/rows` represents more than 64 bytes, that location will be in a different cache line.  In the code above, each element is a `uint32_t`, so if `size/rows > 16`, the next element is in a new cache line. \n",
    "    \n",
    "So, each iteration of the `y` loop touches a different cache line.  In our code, that equates to `rows` cache lines.\n",
    "    \n",
    "When the `y` loop is finished, `x` will increment and the `y` loop will access access the same cache lines in the same order.\n",
    "    \n",
    "The misses arise when `rows` is larger than the number cache lines in our cache.  Our cache is 32kB with 64-bytes lines, so it has 512 cache lines.  As a result, if `rows > 512` there will be lots of cache misses.  You can verify this by running the code above with `rows` equal to 511, 512, and 513.\n",
    "\n",
    "The cell below runs `x_outside()` for a wide range of `rows` values.  The cell below graphs the resulting misses per instructions vs. `rows`.\n",
    "</div>"
   ]
  },
  {
   "cell_type": "code",
   "execution_count": null,
   "id": "e676f0e4",
   "metadata": {
    "editable": true,
    "solution2": "hidden"
   },
   "outputs": [],
   "source": [
    "\n",
    "renest_run = run(renest, function=\"x_outside\", arguments=arg_map(size=128*16*1024,\n",
    "                                                                 rows=range(512-256, 512+256,4)),\n",
    "                 perf_counters=[\"L1-DCACHE-LOAD-MISSES\",  \"PERF_COUNT_HW_INSTRUCTIONS\",\"PERF_COUNT_HW_CPU_CYCLES\"])"
   ]
  },
  {
   "cell_type": "code",
   "execution_count": null,
   "id": "dda2fef0",
   "metadata": {
    "editable": true,
    "solution2": "hidden"
   },
   "outputs": [],
   "source": [
    "\n",
    "renest_data=PE_calc(renest_run.as_df())\n",
    "plotPE(df=renest_data, what=[(\"rows\",\"L1_MPI\")], lines=True)"
   ]
  },
  {
   "cell_type": "markdown",
   "id": "a140b20b",
   "metadata": {
    "editable": false,
    "solution2": "hidden"
   },
   "source": [
    "<div class=\"_solution\">\n",
    "    \n",
    "It's not very clean, but the increase occurs around the right place.  The two most notable things are the spikes in `L1_MPI` below 512 and the relatively slow increase in MPI past 512.\n",
    "\n",
    "The spikes are due to the real L1 cache's limited associativity.  The L1 has 512 cache lines with 8 lines per associative set, so there are 64 sets.  For certain unlucky values of `rows`, many of the cache lines that the loop accesses will land in the same associative set.\n",
    "    \n",
    "The slow rise in MPI after 512 is a little harder to explain, but there are two likely candidates:\n",
    "    \n",
    "1. Intel's cache replacement policies are reported to guard against poorly behave loops (which `x_outside()` is) \"blowing out\" the cache.\n",
    "2. Intel's processors also include several prefetchers that predict accesses with a constant stride, which `x_outside()` certainly has.  I've disabled as many of the prefetchers as I have found documentation for, but graphs like this make me think there's still one running somewhere.  \n",
    "    \n",
    "</div>\n"
   ]
  },
  {
   "cell_type": "markdown",
   "id": "a302fe8d",
   "metadata": {
    "editable": false
   },
   "source": [
    "## Loop Tiling"
   ]
  },
  {
   "cell_type": "markdown",
   "id": "e42b2b4e",
   "metadata": {
    "editable": false
   },
   "source": [
    "Renesting loops can improve spatial locality, but it is generally less effective for improving temporal locality.  There are two criteria that must be met in order to exploit temporal locality:\n",
    "\n",
    "1.  The cache line must be re-used.\n",
    "2.  The re-use must occur before the cache line is evicted by other cache lines coming in the cache.\n",
    "\n",
    "This second condition has a direct connection to working set size:  If the working set size of a piece of code is too large, it is likely that parts of it will be evicted before they are accessed again, making it hard for the processor to exploit the temporal _and_ spatial locality.\n",
    "\n",
    "Our goal, then, is to shrink the working set so that it fits in the cache and we can exploit the resulting locality.\n",
    "\n",
    "As an example, let's consider a 1-dimensional convolution.  \n",
    "\n",
    "### 1-D Convolution\n",
    "\n",
    "One-dimensional convolution a simple algorithm and a fundamental building block for many signal processing systems.   The inputs are two 1-dimensional arrays (we will use `tensor_t<uint32_t>`) that we will call the `source` and the `kernel` and it produces a third array called the `target`.  The `kernel` is usually much smaller than the `source` and the `length(target) = length(source) - length(kernel)`.\n",
    "\n",
    "Conceptually, we compute the entries of `target` by \"sliding\" `kernel` along `source` and computing the dot product at each position.  Here's a video that illustrates:"
   ]
  },
  {
   "cell_type": "code",
   "execution_count": null,
   "id": "c0b094e8",
   "metadata": {
    "editable": true,
    "init_cell": true
   },
   "outputs": [],
   "source": [
    "display(IFrame(\"https://www.youtube.com/embed/ulKbLD6BRJA\", width=560, height=315))"
   ]
  },
  {
   "cell_type": "markdown",
   "id": "fc497a68",
   "metadata": {
    "editable": false
   },
   "source": [
    "The code for simple implementation is below:"
   ]
  },
  {
   "cell_type": "code",
   "execution_count": null,
   "id": "9bace0e5",
   "metadata": {
    "editable": true,
    "init_cell": true
   },
   "outputs": [],
   "source": [
    "convolution = build(\"convolution.cpp\", arg_map(OPTIMIZE=\"-O3\", DEBUG_FLAGS=\"-g0\"))\n",
    "convolution[0].source(show=(\"//START\", \"//END\"))"
   ]
  },
  {
   "cell_type": "markdown",
   "id": "f3e382f0",
   "metadata": {
    "editable": false
   },
   "source": [
    "And here's a trace of it running with a 16kB source and 4kB kernel:\n",
    "\n",
    "![](img/convolution_0.png)"
   ]
  },
  {
   "cell_type": "markdown",
   "id": "918ded6f",
   "metadata": {
    "editable": false
   },
   "source": [
    "The yellow line is `target`, the light blue band is `kernel`, and the `source` is in purple.  The slow shift upward of `source` shows the sliding slice of `source` that `kernel` is being dot-producted (dot-produced?) with.\n",
    "\n",
    "It's not easy to tell from the trace, the working is around 150 cache lines or so -- no problem for our processor.   The size of the working set remain roughly constant, although the cache lines that make it up change as the computation moves along source and target."
   ]
  },
  {
   "cell_type": "markdown",
   "id": "b1833d64",
   "metadata": {
    "editable": false
   },
   "source": [
    "### Memory Behavior in 1-D Convolution\n",
    "\n",
    "We can see from the trace that there is quite a bit of reuse:  The code reads `kernel` over and over again, and there's a lot of overlap between the parts of `source` that the program accesses.  There is _a lot_ of temporal locality, and we should be able to use it.\n",
    "\n",
    "Here's the assembly for `do_convolution()` (our CFG rendered can't handle it :-().  A few notes:\n",
    "\n",
    "1. `%rdi` points to `source`\n",
    "2. `%rsi` points to `kernel`\n",
    "3. `%rdx` points to `target`\n",
    "4.  Note how constant propagation and inlining have turned all those calls to `get()` into very simple code.\n",
    "5.  The inner loop body starts an `.L41`\n"
   ]
  },
  {
   "cell_type": "code",
   "execution_count": null,
   "id": "f101651e",
   "metadata": {
    "editable": true
   },
   "outputs": [],
   "source": [
    "convolution[0].asm(\"do_convolution\")"
   ]
  },
  {
   "cell_type": "markdown",
   "id": "08574d4d",
   "metadata": {
    "cse142L.is_response": true,
    "cse142L.points": 2,
    "cse142L.question_type": "correctness",
    "deletable": false,
    "editable": true
   },
   "source": [
    "<div class=\"question correctness points-2\">\n",
    "    \n",
    "<div class=\"question-text\">\n",
    "\n",
    "How many loads does the inner loop perform per iteration?  How many stores? (Recall that `op rl, r2` in x86 means `r2 = r1 op r2`).  If `source` has 4096 element and `kernel` has 512 element, what's the dynamic instruction count for each loop (to within 10% -- you don't need to be perfectly exact.  Show your work.)?  What fraction of the execution is spent on the outer loop?\n",
    "    \n",
    "</div>\n",
    "<div class=\"answer\">\n",
    "\n",
    "|  | Inner loop | Outer loop (excluding the inner loop) | \n",
    "|--|-------------|----------|\n",
    "| Instructions | \n",
    "| Loads | \n",
    "| Stores | \n",
    "\n",
    "    \n",
    "|  | Inner loop | Outer loop (excluding the inner loop) |\n",
    "|--|-------------|----------|\n",
    "| Dynamic Instruction count|  \n",
    "| % of IC | \n",
    "\n",
    "</div>\n",
    "    \n",
    "</div>    \n"
   ]
  },
  {
   "cell_type": "markdown",
   "id": "af8b88a9",
   "metadata": {
    "cse142L.is_response": true,
    "cse142L.points": 1,
    "cse142L.question_type": "completeness",
    "deletable": false,
    "editable": true,
    "solution2": "hidden",
    "solution2_first": true
   },
   "source": [
    "<div class=\"question completeness\">\n",
    "    \n",
    "<div class=\"question-text\">\n",
    "\n",
    "Compute (rather than measure as you did above) the size of the working set of this computation?  What would it be if `kernel` were 32kB, and `source` was 128kB.  Roughly estimate the cache hit rate in each case.\n",
    "    \n",
    "</div>\n",
    "<div class=\"answer\">\n",
    " \n",
    "**Working set for 16kB source and 4kB kernel**:\n",
    "\n",
    "**Estimated hit rate**:\n",
    "    \n",
    "**Working set for 128kB source and 32kB kernel**:\n",
    "\n",
    "**Estimated hit rate**:\n",
    "\n",
    "</div>\n",
    "    \n",
    "</div>    \n"
   ]
  },
  {
   "cell_type": "markdown",
   "id": "c10e34de",
   "metadata": {
    "editable": false,
    "solution2": "hidden"
   },
   "source": [
    "<div class=\"solution\">\n",
    "\n",
    "In both cases, working set is roughly twice the size of `kernel`.  Each iteration accesses all of `kernel`, an equal-sized chunk of `source`, and one element of `target`.\n",
    "    \n",
    "For a 4kB kernel (`size = 1024`), this is 8kB (or 128 cache lines).  For a 32kB kernel, it 64kB or about 1024 cache lines.\n",
    "\n",
    "To estimate the cache miss rate, first note that for the smaller data size, the working set is smaller than the L1, so the hit rate should be near zero.\n",
    "    \n",
    "For the larger size, we need to think through the source code.  From the previous question (and Amdahl's Law), we know know that the inner loop is all that really matters, so we can focus there.\n",
    "\n",
    "Each iteration of the inner loop performs 4 memory operations:\n",
    "\n",
    "<div class=\"answer\">\n",
    "\n",
    "| ||\n",
    "|-|-|\n",
    "|movl\t(%r9,%rax,4), %ecx| load|\n",
    "|imull\t(%r10,%rax,4), %ecx| load + multiply|\n",
    "|\tmovl\t%edi, (%r8)| store to `target`|\n",
    "|\tmovl\t(%rsi), %ecx| load |\n",
    "\n",
    "</div>\n",
    "    \n",
    "The `movl` and the `mull` are both going to take capacity misses for each cache line they access, even though the tend to access the same data from one iteration of the outer loop to the next.   Between them they read 64kB of data, too much for the L1 to hold.  Since `uint32_t` is 4 bytes, there are 16 of them per cache line.  Therefore, both of these instructions will miss 1/16 of the time. \n",
    "\n",
    "The store to `target` and the final `movl` will usually be a hit, since `%rsi` and `%r8` only changes in the outer loop. \n",
    "\n",
    "I don't know why the load from `%rsi` is there, but I couldn't get the compiler to get rid of it (exercise for the reader).\n",
    "\n",
    "So, there are likely to be 2 * 1/16 of a cache miss per iteration of the inner loop.  There are 8 instructions in the inner loop, so the `L1_MPI` should be about 0.015.\n",
    "\n",
    "Let's check:\n",
    "\n",
    "</div>"
   ]
  },
  {
   "cell_type": "code",
   "execution_count": null,
   "id": "aa823694",
   "metadata": {
    "editable": true,
    "solution2": "hidden"
   },
   "outputs": [],
   "source": [
    "\n",
    "to_run =  arg_map(executable=convolution, \n",
    "                  function=\"convolution\", \n",
    "                  arguments=arg_map(source_size=4*1024, kernel_size=1024, tile_size=0),\n",
    "                  run_options=arg_map(MHz=3500))\n",
    "to_run += arg_map(executable=convolution, \n",
    "                  function=\"convolution\", \n",
    "                  arguments=arg_map(source_size=32*1024, kernel_size=8*1024, tile_size=0),\n",
    "                  run_options=arg_map(MHz=3500))\n",
    "misses = run_list(to_run, perf_counters=[\"L1-DCACHE-LOAD-MISSES\",  \"PERF_COUNT_HW_INSTRUCTIONS\",\"PERF_COUNT_HW_CPU_CYCLES\"])\n",
    "    "
   ]
  },
  {
   "cell_type": "code",
   "execution_count": null,
   "id": "f9533a7f",
   "metadata": {
    "editable": true,
    "solution2": "hidden"
   },
   "outputs": [],
   "source": [
    "misses_data = PE_calc(misses.as_df())\n",
    "display(misses_data)"
   ]
  },
  {
   "cell_type": "markdown",
   "id": "c5d24bc1",
   "metadata": {
    "editable": false,
    "solution2": "hidden"
   },
   "source": [
    "<div class=\"_solution\">\n",
    "    \n",
    "Pretty good agreement!  The `L1_MPI` should match our prediction for the large data size and be roughly 0 for the small data size.\n",
    "\n",
    "</div>"
   ]
  },
  {
   "cell_type": "markdown",
   "id": "69a7b857",
   "metadata": {
    "editable": false
   },
   "source": [
    "### Tiling 1-D Convolution"
   ]
  },
  {
   "cell_type": "markdown",
   "id": "9c1cb205",
   "metadata": {
    "editable": false
   },
   "source": [
    "We are going to \"tile\" the execution of this function to reduce the number of cache misses for large data sets.  Tiling works by breaking up the execution of a set of nested loops into smaller parts with smaller working sets.  If the resulting working set fits in the cache, the number of cache misses should drop significantly.\n",
    "\n",
    "We'll perform the tiling in two steps:\n",
    "\n",
    "1.  We'll \"split\" a loop into two nested loops. \n",
    "2.  Then we'll renest the resulting loops.\n",
    "\n",
    "To split a loop, we will break the loop into fixed-size chunks.   The outer loop will iterate over the chunks, and the inner loop will iterate over the elements within a chunk.  This first transformation _has no effect_ on the order in which computation occurs.\n",
    "\n",
    "Here's version of the convolution code with the `kernel` loop split into chunks of size `tile_size` (we'll set `tile_size` to 64 for now):"
   ]
  },
  {
   "cell_type": "code",
   "execution_count": null,
   "id": "6c12f19c",
   "metadata": {
    "editable": true,
    "init_cell": true
   },
   "outputs": [],
   "source": [
    "convolution[0].source(\"do_convolution_new_loop\")"
   ]
  },
  {
   "cell_type": "markdown",
   "id": "8ce22e01",
   "metadata": {
    "editable": false
   },
   "source": [
    "Here's the trace for the 4kB source and 1kB kernel.  Nothing changes:\n",
    "\n",
    "![](img/convolution_new_loop_small_0.png)\n",
    "\n",
    "And here's the trace for the big data set\n",
    "\n",
    "![](img/convolution_new_loop_big_0.png)\n",
    "\n"
   ]
  },
  {
   "cell_type": "markdown",
   "id": "c2d7e7f0",
   "metadata": {
    "editable": false
   },
   "source": [
    "Here it is the same code on a much larger data set that doesn't fit in the L1.  The slop of the lines is less pronounced because are only seeing the first 10 million memory accesses (which is all Moneta can display at once).  You might notice that the data structures are laid out differently (i.e., the color stripes are in a different order) in this plot than the one above.  This is the memory allocator putting things wherever it wants.  The color scheme is the same across all these plots."
   ]
  },
  {
   "cell_type": "markdown",
   "id": "c4eb637b",
   "metadata": {
    "editable": false
   },
   "source": [
    "The next step is to renest the split loop.  Here's the code.  The only change is that we swapped the order of the `jj` loop and the `i` loop. Now, we will run the whole algorithm for 2048 elements of the `kernel` at a time."
   ]
  },
  {
   "cell_type": "code",
   "execution_count": null,
   "id": "bab9d083",
   "metadata": {
    "editable": true
   },
   "outputs": [],
   "source": [
    "convolution[0].source(\"do_convolution_tiled\")"
   ]
  },
  {
   "cell_type": "markdown",
   "id": "45ecbbeb",
   "metadata": {
    "editable": false
   },
   "source": [
    "Here's this code running on the small data set:\n",
    "\n",
    "![](img/convolution_tiled_little_0.png)\n",
    "\n",
    "Well, that's different! \n",
    "\n",
    "Let's take a look at the access pattern for each of the tensors:\n",
    "\n",
    "**`kernel`**\n",
    "\n",
    "The kernel is in light blue and labeled with tag 'kernel'.  Let's zoom in:\n",
    "\n",
    "![](img/tiled_small_kernel_zoom.png)\n",
    "\n",
    "The chunking structure shows up as a \"stair step\" pattern.  Each of the light blue blocks shows the portion of the `kernel` tensor the code is processing for each chunk.\n",
    "\n",
    "**`target`**\n",
    "\n",
    "Zooming waaay in on `target` and we can see individual accesses.  You'll see that for each chunk, we make a linear pass over `target`, accessing each element once.\n",
    "\n",
    "![](img/tiled_small_target_zoom.png)\n",
    "\n",
    "**`source`**\n",
    "\n",
    "Zooming in on `source`:\n",
    "\n",
    "![](img/tiled_small_source_zoom.png)\n",
    "\n",
    "The thick stripe is the code accessing each element of the tensor repeatedly for each chunk.\n",
    "\n",
    "`target` and `source` both exhibit reuse -- one of the two criteria necessary to leverage spatial locality.  The second criteria is that the working set fits in the cache.\n",
    "\n",
    "Let's run it on a data set that won't fit in the L1.  The trace shows just 1.5 or so chunks worth of execution.  The \"sawtooth\" pattern would continue if we could trace more accesses.\n",
    "\n",
    "![](img/convolution_tiled_big_0.png)"
   ]
  },
  {
   "cell_type": "markdown",
   "id": "62ba1669",
   "metadata": {
    "editable": false
   },
   "source": [
    "Let's see how the cache is doing.  We'll compare the untiled version and the tiled version on two large datasets:\n"
   ]
  },
  {
   "cell_type": "code",
   "execution_count": null,
   "id": "c152f09c",
   "metadata": {
    "editable": true
   },
   "outputs": [],
   "source": [
    "\n",
    "tiled_run = run(convolution, \n",
    "                    function=[\"convolution\", \"convolution_tiled\"], \n",
    "                    arguments=arg_map(source_size=32*1024, kernel_size=8*1024, tile_size=64) +\n",
    "                              arg_map(source_size=4*32*1024*4, kernel_size=8*1024*4, tile_size=64),\n",
    "                    perf_counters=[\"L1-DCACHE-LOAD-MISSES\",  \"PERF_COUNT_HW_INSTRUCTIONS\",\"PERF_COUNT_HW_CPU_CYCLES\"])\n",
    "    "
   ]
  },
  {
   "cell_type": "code",
   "execution_count": null,
   "id": "6aa50ab1",
   "metadata": {
    "cse142L.is_response": true,
    "deletable": false,
    "editable": false
   },
   "outputs": [],
   "source": [
    "\n",
    "tiled_data = PE_calc(tiled_run.as_df())\n",
    "display(tiled_data)"
   ]
  },
  {
   "cell_type": "markdown",
   "id": "580acf9e",
   "metadata": {
    "editable": false
   },
   "source": [
    "There are two things to note: \n",
    "\n",
    "1.  Tiling reduced `L1_MPI` by two orders of magnitude (about 100x)\n",
    "2.  For the tiled version, the `L1_MPI` and `CPI` change very little (~1%) as the data set size increased.  This is because the tile size (rather than the total data size) sets the working set.\n",
    "\n",
    "We would hope to see a large boost in performance with tiling.  We get a boost, but is it at as large as you'd expect?"
   ]
  },
  {
   "cell_type": "markdown",
   "id": "9b325ee4",
   "metadata": {
    "cse142L.is_response": true,
    "cse142L.points": 2,
    "cse142L.question_type": "correctness",
    "deletable": false,
    "editable": true
   },
   "source": [
    "<div class=\"question correctness points-2\">\n",
    "    \n",
    "<div class=\"question-text\">\n",
    "\n",
    "Consider the speedup provided by each term of the performance equation for the largest data set.  Show your work.  What contributes to and detracts from achieving a larger, overall improvement in performance? \n",
    "</div>\n",
    "<div class=\"answer\">\n",
    "    \n",
    "IC:\n",
    "    \n",
    "CPI:\n",
    "    \n",
    "CT:\n",
    "\n",
    "\n",
    "    \n",
    "\n",
    "\n",
    "\n",
    "    \n",
    "\n",
    "</div>\n",
    "    \n",
    "</div>    "
   ]
  },
  {
   "cell_type": "markdown",
   "id": "98b1f939",
   "metadata": {
    "editable": false
   },
   "source": [
    "Hmmm....\n",
    "\n",
    "What happened?  L1_MPI is low, CPI went down, but ET went up!\n",
    "\n",
    "So how can we get IC under control?\n",
    "\n",
    "Let's look at the assembly.  On the left is the untiled version.  On the right, it is tiled."
   ]
  },
  {
   "cell_type": "code",
   "execution_count": null,
   "id": "f493c8df",
   "metadata": {
    "editable": true
   },
   "outputs": [],
   "source": [
    "compare([convolution[0].asm(\"do_convolution\"),\n",
    "         convolution[0].asm(\"do_convolution_tiled\")], [\"not tiled\", \"tiled\"])"
   ]
  },
  {
   "cell_type": "markdown",
   "id": "e639e3bb",
   "metadata": {
    "cse142L.is_response": true,
    "cse142L.points": 1,
    "cse142L.question_type": "completeness",
    "deletable": false,
    "editable": true,
    "solution2": "hidden",
    "solution2_first": true
   },
   "source": [
    "<div class=\"question completeness\">\n",
    "    \n",
    "<div class=\"question-text\">\n",
    "\n",
    "Give the labels that mark the beginning and end of the inner loop for the tiled code.\n",
    "    \n",
    "</div>\n",
    "<div class=\"answer\">\n",
    "\n",
    "</div>\n",
    "    \n",
    "</div>    "
   ]
  },
  {
   "cell_type": "markdown",
   "id": "80ba63a6",
   "metadata": {
    "editable": false,
    "solution2": "hidden"
   },
   "source": [
    "<div class=\"solution\">\n",
    "\n",
    "We already found the inner loop for the untiled code.  It's between `.L41` and the `jg .L4`.  You can tell it's the inner loop because there are no branches inside.  In this case, the loop-terminating branch (`jg .L4`) is _not taken_ on the last iteration of the loop, but is _taken_ during the loops execution. \n",
    "    \n",
    "We can look for a similar structure in the tiled version is a little more complicated (give it a try).\n",
    "\n",
    "Here's a hint:  The loop termination condition for the tiled version is _taken_ on the last iteration of the loop, so it jumps out of the loop when the loop is finished.\n",
    "    \n",
    "Here's another hint:  It starts at `.L234`.  But where's the end?\n",
    "    \n",
    "It ends at `.L221`.\n",
    "    \n",
    "The weird part is that there are two branches that can exit the loop:  either `jg\t.L234` or `je\t.L221`.  \n",
    "\n",
    "We could dissect the assembly to figure out why that is, but what we are actually after is the size of the inner loop (see the question below), and we can tell that already:  We know that there must be a multiply in the inner loop (since that's what the source code says), and there it is: `imull\t-4(%r8,%rax,4), %edx`.  So, the inner loop body must be whatever instructions execute each time the multiply executes, and that's the code between `.L234` and `.L22` (Trace through the possible paths execution can take to convince yourself of this).\n",
    "    \n",
    "Optional question: What's the compiler doing with each of those loop exit conditions?\n",
    "\n",
    "</div>"
   ]
  },
  {
   "cell_type": "markdown",
   "id": "c28562fa",
   "metadata": {
    "cse142L.is_response": true,
    "cse142L.points": 3,
    "cse142L.question_type": "correctness",
    "deletable": false,
    "editable": true
   },
   "source": [
    "<div class=\"question correctness points-3\">\n",
    "    \n",
    "<div class=\"question-text\">\n",
    "\n",
    "For the inner loop body of each version, fill out the table below assuming that `kernel` is 64kB (16k entries) and `source` is 512kB (64k entries). \n",
    "    \n",
    "</div>\n",
    "<div class=\"answer\">\n",
    "\n",
    "| |# of times executed | static insturctions  | dynamic instructions | \n",
    "|--|-|-|-|\n",
    "|untiled | \n",
    "|tiled | \n",
    "\n",
    "**Ratio of Tiled IC/Untiled IC**: \n",
    "    \n",
    "</div>\n",
    "    \n",
    "</div>    "
   ]
  },
  {
   "cell_type": "markdown",
   "id": "c7cf4ecf",
   "metadata": {
    "editable": false
   },
   "source": [
    "In the tiled code, there are some extra instructions in the inner loop.  They are due to the more complex loop completion condition required by tiling.  This eats into our performance!"
   ]
  },
  {
   "cell_type": "markdown",
   "id": "8d8094fb",
   "metadata": {
    "cse142L.is_response": true,
    "cse142L.points": 1,
    "cse142L.question_type": "completeness",
    "deletable": false,
    "editable": true
   },
   "source": [
    "<div class=\"question completeness\">\n",
    "    \n",
    "<div class=\"question-text\">\n",
    "\n",
    "Modify the cell below (it's the same code as `convolution_tiled()`) to reduce loop overhead and achieve speedup with tiling.\n",
    "\n",
    "</div>\n",
    "    \n",
    "</div>    "
   ]
  },
  {
   "cell_type": "code",
   "execution_count": null,
   "id": "6dc2de00",
   "metadata": {
    "editable": true,
    "solution2": "hidden",
    "solution2_first": true
   },
   "outputs": [],
   "source": [
    "\n",
    "convolution_question = build(code(r\"\"\"\n",
    "#include\"cfiddle.hpp\"\n",
    "#include\"tensor_t.hpp\"\n",
    "#include\"util.hpp\"\n",
    "#include<cstdint>\n",
    "#include<cassert>\n",
    "\n",
    "extern \"C\"\n",
    "void do_convolution_tiled(const tensor_t<uint32_t> & source,\n",
    "                          const tensor_t<uint32_t> & kernel,\n",
    "                          tensor_t<uint32_t> & target, int32_t tile_size) {\n",
    "        disable_prefetcher();\n",
    "        flush_caches();\n",
    "\n",
    "        start_measurement();\n",
    "        for(int32_t jj = 0; jj < kernel.size.x; jj += tile_size) {  // Move the jj chunk loop outside\n",
    "                for(int32_t i = 0; i < target.size.x; i++) {\n",
    "                        for(int32_t j = jj; j < kernel.size.x && j < jj + tile_size; j++) {\n",
    "                                target.get(i,0,0,0) += source.get(i + j,0,0,0) * kernel.get(j,0,0,0);\n",
    "                        }\n",
    "                }\n",
    "        }\n",
    "        end_measurement();\n",
    "}\n",
    "\n",
    "extern \"C\"\n",
    "void convolution_tiled(uint64_t source_size,  uint64_t kernel_size, int32_t tile_size) {\n",
    "        tensor_t<uint32_t> source(source_size,1,1,1);\n",
    "        tensor_t<uint32_t> kernel(kernel_size,1,1,1);\n",
    "        uint64_t target_size = source_size - kernel_size;\n",
    "        tensor_t<uint32_t> target(target_size,1,1,1);\n",
    "\n",
    "        do_convolution_tiled(source, kernel, target, tile_size);\n",
    "}\n",
    "\"\"\", file_name=\"convolution_question.cpp\"), build_parameters=arg_map(OPTIMIZE=\"-O3\"))\n",
    "\n",
    "cq_run = run(convolution_question, function=\"convolution_tiled\", arguments=arg_map(source_size=4*32*1024*4, \n",
    "                                                                                   kernel_size=8*1024*4, \n",
    "                                                                                   tile_size=64))\n",
    "\n",
    "cq_data = PE_calc(cq_run.as_df())\n",
    "display(tiled_data) # this is the data from above for comparison\n",
    "display(cq_data)\n"
   ]
  },
  {
   "cell_type": "markdown",
   "id": "db5ab2d4",
   "metadata": {
    "editable": false,
    "solution2": "hidden"
   },
   "source": [
    "<div class=\"solution\">\n",
    "    \n",
    "Loop overhead is additional instructions that are necessary to implement and terminate the loop:  Exit condition checks, counter increments, branches.  Each iteration incurs these overheads, so the total overhead is equal to the number of iteration multiplied by the per-iteration overhead.  So, we can reduce the total overhead by reducing the number of iterations or the per-iteration overhead.\n",
    "\n",
    "Let's start with reducing the number of iterations.  The easiest way to achieve this would be to unroll the loop.  For some reason the compiler choose not to unroll this loop, but let's force it to.  You could do this by adding `-funroll-loops` or `-funroll-all-loops` to the `build()` command above, but there's an unrolled version in `convolution.cpp`:\n",
    "\n",
    "</div>"
   ]
  },
  {
   "cell_type": "code",
   "execution_count": null,
   "id": "6b5dd9a8",
   "metadata": {
    "editable": true,
    "init_cell": true,
    "solution2": "hidden"
   },
   "outputs": [],
   "source": [
    "display(convolution[0].source(\"do_convolution_tiled_unrolled\"))\n",
    "\n",
    "ca_answer = run(convolution, function=\"convolution_tiled_unrolled\", arguments=arg_map(source_size=4*32*1024*4, \n",
    "                                                                                      kernel_size=8*1024*4, \n",
    "                                                                                      tile_size=64))\n",
    "\n",
    "ca_data = PE_calc(ca_answer.as_df())\n",
    "display(tiled_data) # this is the data from above for comparison\n",
    "display(ca_data)"
   ]
  },
  {
   "cell_type": "markdown",
   "id": "b1aa1697",
   "metadata": {
    "editable": false,
    "solution2": "hidden"
   },
   "source": [
    "<div class=\"_solution\">\n",
    "\n",
    "The bottom two rows are all that matter. \n",
    "    \n",
    "It's a little better, but not much. It appears the compiler's decision not to unroll was not quite correct.\n",
    "\n",
    "But why didn't it help more?  Let's look at the unrolled assembly:\n",
    "\n",
    "</div>"
   ]
  },
  {
   "cell_type": "code",
   "execution_count": null,
   "id": "b73d9dbf",
   "metadata": {
    "editable": true,
    "solution2": "hidden"
   },
   "outputs": [],
   "source": [
    "convolution[0].asm(\"do_convolution_tiled_unrolled\")"
   ]
  },
  {
   "cell_type": "markdown",
   "id": "74a75160",
   "metadata": {
    "editable": false,
    "solution2": "hidden"
   },
   "source": [
    "<div class=\"_solution\">\n",
    "\n",
    "What a mess!  Can you find the inner loop?  Remember, it's unrolled!\n",
    "\n",
    "It appears to be a huge jumble but it's not actually that complicated.  Here's the pseudo code for what's (roughly) going on in the unrolled loop:\n",
    "\n",
    "```\n",
    "for(i =0; i < bound; i+=8) {\n",
    "    do_iteration(i++);\n",
    "    if (i <= bound) goto end;\n",
    "    do_iteration(i++);\n",
    "    if (i <= bound) goto end;\n",
    "    do_iteration(i++);\n",
    "    if (i <= bound) goto end;\n",
    "    do_iteration(i++);\n",
    "    if (i <= bound) goto end;\n",
    "    do_iteration(i++);\n",
    "    if (i <= bound) goto end;\n",
    "    do_iteration(i++);\n",
    "    if (i <= bound) goto end;\n",
    "    do_iteration(i++);\n",
    "    if (i <= bound) goto end;\n",
    "    do_iteration(i++);\n",
    "}\n",
    "end:\n",
    "```\n",
    "\n",
    "It really isn't saving any loop bound checks, so it's not surprising that IC doesn't change much.\n",
    "\n",
    "Don't give up yet!  We can do better.\n",
    "\n",
    "We need to make the compiler's job easier.  The reason for all the bounds checks in the unrolled loop is that the bound could be anything.  If we constrain the loop bound, the compiler can unroll more efficiently.\n",
    "\n",
    "We have not solved the problem, but we can now ask a more focused question.\n",
    "\n",
    "</div>"
   ]
  },
  {
   "cell_type": "markdown",
   "id": "ddbdface",
   "metadata": {
    "cse142L.is_response": true,
    "cse142L.points": 1,
    "cse142L.question_type": "completeness",
    "deletable": false,
    "editable": true,
    "solution2": "hidden",
    "solution2_first": true
   },
   "source": [
    "<div class=\"question completeness\">\n",
    "    \n",
    "<div class=\"question-text\">\n",
    "\n",
    "Go back up to the fiddle you worked on earlier.  Try to reduce loop overhead due to unrolling. Feel free to start with the code for `convolution_tiled_unrolled()`.\n",
    "\n",
    "</div>\n",
    "    \n",
    "</div>    "
   ]
  },
  {
   "cell_type": "markdown",
   "id": "d89816fd",
   "metadata": {
    "editable": false,
    "solution2": "hidden"
   },
   "source": [
    "<div class=\"solution\">\n",
    "\n",
    "Most of the time, the inner loop runs from `jj` to `jj+tile_size`.  But, once every outer loop iteration, it might run fewer iterations if `jj+tile_size > kernel.size.x`.\n",
    "    \n",
    "As mentioned, in Lab 2, gcc likes to unroll loops 8 times.  This means that if `tile_size` is a multiple of 8, then the common case (`j = jj..jj+tile_size`) should not required any bounds checks in the unrolled loop body.  The compiler can just do this:\n",
    "\n",
    "    \n",
    "```\n",
    "for(j = jj; j < jj + tile_size; i+=8) {\n",
    "    do_iteration(i++);\n",
    "    do_iteration(i++); \n",
    "    do_iteration(i++);\n",
    "    do_iteration(i++);\n",
    "    do_iteration(i++);\n",
    "    do_iteration(i++);\n",
    "    do_iteration(i++);\n",
    "    do_iteration(i++);\n",
    "}\n",
    "```\n",
    "\n",
    "So, how can we 1) ensure that `tile_size % 8 == 0` and 2) separate out the `j = jj..jj+tile_size` case from the occasional boundary condition?  \n",
    "                  \n",
    "For #1, we can just check chop off the 3 low-order bits of `tile_size`.  Note that it's not sufficient to just pass multiples of 8 with `tile-size` parameter, the compiler must know for certain that `tile_size` is multiple of 8.\n",
    "    \n",
    "For #2, we can check for the boundary condition and handle it as a special case, but do it _outside the loop_.  Then, we'll rely on the compiler to unroll:\n",
    "\n",
    "</div>"
   ]
  },
  {
   "cell_type": "code",
   "execution_count": null,
   "id": "258c8634",
   "metadata": {
    "editable": true,
    "init_cell": true,
    "solution2": "hidden"
   },
   "outputs": [],
   "source": [
    "display(convolution[0].source(\"do_convolution_tiled_split\"))\n",
    "\n",
    "ca2_answer = run(convolution, function=\"convolution_tiled_split\", arguments=arg_map(source_size=4*32*1024*4, \n",
    "                                                                                    kernel_size=8*1024*4, \n",
    "                                                                                    tile_size=64))\n",
    "\n",
    "ca2_data = PE_calc(ca2_answer.as_df())\n",
    "display(tiled_data) # this is the data from above for comparison\n",
    "display(ca_data)\n",
    "display(ca2_data)"
   ]
  },
  {
   "cell_type": "markdown",
   "id": "7d3f2b26",
   "metadata": {
    "editable": false,
    "solution2": "hidden"
   },
   "source": [
    "<div class=\"_solution\">\n",
    "\n",
    "Finally!  At long last!  Good speedup! 1.6x in fact (at least that's what I got)!\n",
    "\n",
    "Let's checkout the assembly:\n",
    "\n",
    "</div>"
   ]
  },
  {
   "cell_type": "code",
   "execution_count": null,
   "id": "e1b88882",
   "metadata": {
    "editable": true,
    "solution2": "hidden"
   },
   "outputs": [],
   "source": [
    "convolution[0].asm(\"do_convolution_tiled_split\")"
   ]
  },
  {
   "cell_type": "markdown",
   "id": "c4eb25e5",
   "metadata": {
    "editable": false,
    "solution2": "hidden"
   },
   "source": [
    "<div class=\"_solution\">\n",
    "\n",
    "There are two inner loops now.  Can you find them both?  One of this nice and long and branch free and that's where most of execution occurs!  Amdahl would be so happy!  \n",
    "</div>"
   ]
  },
  {
   "cell_type": "markdown",
   "id": "2cae161d",
   "metadata": {
    "cse142L.is_response": true,
    "cse142L.question_type": "optional",
    "deletable": false,
    "editable": true
   },
   "source": [
    "<div class=\"question optional\">\n",
    "    \n",
    "<div class=\"question-text\">\n",
    "\n",
    "Take what you've learned about loop unrolling and see if you can speedup the `baseline` implementation _without_ tiling.  Can you beat the `tiled-split` version?\n",
    "    \n",
    "</div>\n",
    "    \n",
    "</div>    "
   ]
  },
  {
   "cell_type": "markdown",
   "id": "eb30681a",
   "metadata": {
    "cse142L.is_response": true,
    "cse142L.question_type": "optional",
    "deletable": false,
    "editable": true
   },
   "source": [
    "<div class=\"question optional\">\n",
    "    \n",
    "<div class=\"question-text\">\n",
    "\n",
    "I'm divided on whether the `if` around the two versions of the inner loop is elegant or ugly.  Can you find a more elegant way to express the loop bound that allows the compiler to unroll the loop effectively?  Do you think it makes the performance characteristics of the code more or less maintainable? (\"maintainable\" in this case means that it is unlikely that someone later will inadvertently change the code in a way the causes the compiler to no longer unroll the loop correctly)\n",
    "    \n",
    "</div>\n",
    "    \n",
    "</div>    "
   ]
  },
  {
   "cell_type": "markdown",
   "id": "e4f6c098",
   "metadata": {
    "editable": false
   },
   "source": [
    "### Tuning Tile Size\n",
    "\n",
    "Shockingly, we aren't done with 1D convolution yet!  Like a zillion cells  ago, we picked 64 as the value for `tile_size`?  Is that a good choice?\n",
    "\n",
    "We could try to do some math to figure out exactly how big it should be, but at this point, you're tired and so am I.  Let's just check experimentally.  We'll run it with powers of 2 from 8 to 8k and see what's best.  (We'll skip 1, 2, or 4 because they are not multiples of 8 -- our unrolling factor).  This take a while.\n"
   ]
  },
  {
   "cell_type": "code",
   "execution_count": null,
   "id": "3b46c815",
   "metadata": {
    "editable": true
   },
   "outputs": [],
   "source": [
    "tuning = run(convolution, \n",
    "             function=\"convolution_tiled_split\", \n",
    "             arguments=arg_map(source_size=4*32*1024*4, \n",
    "                                           kernel_size=8*1024*4, \n",
    "                                           tile_size=exp_range(8,8192,2)),\n",
    "             perf_counters=[\"L1-DCACHE-LOAD-MISSES\", \"PERF_COUNT_HW_INSTRUCTIONS\", \"PERF_COUNT_HW_CPU_CYCLES\"])"
   ]
  },
  {
   "cell_type": "code",
   "execution_count": null,
   "id": "6b7c4cc1",
   "metadata": {
    "editable": true
   },
   "outputs": [],
   "source": [
    "tuning_data = PE_calc(tuning.as_df())\n",
    "display(tuning_data)"
   ]
  },
  {
   "cell_type": "code",
   "execution_count": null,
   "id": "f4e778d1",
   "metadata": {
    "editable": true
   },
   "outputs": [],
   "source": [
    "plotPE(df=tuning_data, what=[(\"tile_size\", \"IC\"),(\"tile_size\", \"CPI\"),(\"tile_size\", \"ET\"), (\"tile_size\", \"L1_MPI\")], logx=2, lines=True)\n"
   ]
  },
  {
   "cell_type": "markdown",
   "id": "be93f30c",
   "metadata": {
    "editable": false
   },
   "source": [
    "We want to minimize `ET`.  There's pretty broad minimum area where the `IC` (why does increasing `tile_size` reduce IC?) is pretty low and `CPI` is not too high due to `L1_MPI` shooting up when `tile_size` gets big enough to blow out the L1 cache.  512 looks like a good value.\n"
   ]
  },
  {
   "cell_type": "code",
   "execution_count": null,
   "id": "a6099709",
   "metadata": {
    "editable": true
   },
   "outputs": [],
   "source": [
    "display(tiled_data) # this is the data from above for comparison\n",
    "display(ca2_data)\n",
    "display(tuning_data)"
   ]
  },
  {
   "cell_type": "markdown",
   "id": "cecbf18d",
   "metadata": {
    "editable": false
   },
   "source": [
    "Turing `tile_size` gave us an additional 6.4/5.9 = 1.08x.  This is mostly from reducing `IC`.  Interestingly, we also dropped `L1_MPI` by a factor of ~10, although it was already very low, so the impact is negligible.\n",
    "\n",
    "There's one more things we'll try before call it a day:  We can help the compiler a bit more by converting `tile_size` to a constant:"
   ]
  },
  {
   "cell_type": "code",
   "execution_count": null,
   "id": "6a8cbe67",
   "metadata": {
    "editable": true,
    "init_cell": true
   },
   "outputs": [],
   "source": [
    "convolution[0].source(\"do_convolution_tiled_fixed_tile\")"
   ]
  },
  {
   "cell_type": "markdown",
   "id": "9b656bf7",
   "metadata": {
    "editable": false
   },
   "source": [
    "We'll measure it below."
   ]
  },
  {
   "cell_type": "markdown",
   "id": "b70a10a5",
   "metadata": {
    "editable": false
   },
   "source": [
    "### Final Measurement"
   ]
  },
  {
   "cell_type": "markdown",
   "id": "3471837d",
   "metadata": {
    "editable": false
   },
   "source": [
    "Let's re-run all versions to see how performance improved:"
   ]
  },
  {
   "cell_type": "code",
   "execution_count": null,
   "id": "91abccef",
   "metadata": {
    "editable": true
   },
   "outputs": [],
   "source": [
    "# Versions with naive tile size\n",
    "to_run = arg_map(executable=convolution, \n",
    "                 function=[\"convolution\",\n",
    "                           \"convolution_tiled\",\n",
    "                           \"convolution_tiled_unrolled\",\n",
    "                           \"convolution_tiled_split\"],\n",
    "                 arguments=arg_map(source_size=4*32*1024*4, \n",
    "                                   kernel_size=8*1024*4, \n",
    "                                   tile_size=64),\n",
    "                run_options=arg_map(MHz=3500))\n",
    "#tuned tile size\n",
    "to_run +=arg_map(executable=convolution, \n",
    "                 function=[\"convolution_tiled_split\",\n",
    "                           \"convolution_tiled_fixed_tile\"],\n",
    "                 arguments=arg_map(source_size=4*32*1024*4, \n",
    "                                   kernel_size=8*1024*4, \n",
    "                                   tile_size=512),\n",
    "                run_options=arg_map(MHz=3500))\n",
    "\n",
    "everything = run_list(to_run, \n",
    "                      perf_counters=[\"L1-DCACHE-LOAD-MISSES\", \"PERF_COUNT_HW_INSTRUCTIONS\", \"PERF_COUNT_HW_CPU_CYCLES\"])\n"
   ]
  },
  {
   "cell_type": "code",
   "execution_count": null,
   "id": "c5dcdfbc",
   "metadata": {
    "cse142L.is_response": true,
    "deletable": false,
    "editable": false
   },
   "outputs": [],
   "source": [
    "\n",
    "everything_data = PE_calc(everything.as_df())\n",
    "everything_data[\"speedup\"] = everything_data.iloc[0][\"ET\"]/everything_data[\"ET\"]\n",
    "display(everything_data)"
   ]
  },
  {
   "cell_type": "code",
   "execution_count": null,
   "id": "159437c4",
   "metadata": {
    "cse142L.is_response": true,
    "deletable": false,
    "editable": false
   },
   "outputs": [],
   "source": [
    "\n",
    "plotPEBar(df=everything_data, what=[(\"function\", \"IC\"),(\"function\", \"L1_MPI\"),(\"function\", \"CPI\"), (\"function\", \"ET\"), (\"function\", \"speedup\")])\n"
   ]
  },
  {
   "cell_type": "markdown",
   "id": "46faa3eb",
   "metadata": {
    "editable": false
   },
   "source": [
    "Overall, we got about 2.13x speedup!"
   ]
  },
  {
   "cell_type": "markdown",
   "id": "c20e8a50",
   "metadata": {
    "cse142L.is_response": true,
    "cse142L.points": 2,
    "cse142L.question_type": "correctness",
    "deletable": false,
    "editable": true
   },
   "source": [
    "<div class=\"question correctness points-2\">\n",
    "    \n",
    "<div class=\"question-text\">\n",
    "\n",
    "Which optimization provided the largest incremental speedup (i.e., the biggest speedup relative to the version before it)?  Why do you think this is?\n",
    "    \n",
    "</div>\n",
    "    \n",
    "<div class=\"answer\">\n",
    "\n",
    "\n",
    "</div>\n",
    "</div>    "
   ]
  },
  {
   "cell_type": "markdown",
   "id": "93806402",
   "metadata": {
    "cse142L.is_response": true,
    "cse142L.question_type": "optional",
    "deletable": false,
    "editable": true
   },
   "source": [
    "<div class=\"question optional\">\n",
    "    \n",
    "<div class=\"question-text\">\n",
    "\n",
    "Do the following:\n",
    "    \n",
    "1.  In `convolution.cpp`, search for `CURSED`\n",
    "2.  Turn the `0` to a `1`\n",
    "3.  Recompile `convolution.cpp` by re-running the `build()` command at the top of this section\n",
    "4.  Re-run the experiment above.\n",
    "    \n",
    "What changed?  Why?  How can you fix it?\n",
    "\n",
    "</div>\n",
    "\n",
    "    \n",
    "![](img/haunted.png)\n",
    "</div>    "
   ]
  },
  {
   "cell_type": "markdown",
   "id": "9d9e8bc0",
   "metadata": {
    "editable": false
   },
   "source": [
    "### Discussion\n",
    "\n",
    "Let's take a moment to think about why that was so complicated.  Let's address three questions.\n",
    "\n",
    "**First question** Why was it so hard to realize significant performance improvements for 1-D convolution by reducing cache misses?  \n",
    "\n",
    "There are two main reasons:  First, the inner loop of convolution is very small, so the extra loop overhead from tiling really killed us.  If the loop body had been larger, the relative impact of the loop overhead would have been smaller.  This is a good example of Amdahl's Law.\n",
    "\n",
    "Second, there was no loop-carried dependence between loads:  None of the loads in one iteration needed to finish before the loads in the next iteration could begin.  This means there was a lot of instruction level parallelism (ILP, which you are just learning about in 142) and, in particular, there is a lot of memory parallelism.  This mean that multiple loads (and probably multiple cache misses) ran in parallel.  When multiple long-latency operation run in parallel, we say their latency is \"hidden\".\n",
    "\n",
    "If the loads were dependent, the impact of the cache misses would have been larger, so reducing them would have had bigger impact.\n",
    "We'll talk about that more in Lab 5.\n",
    "\n",
    "**Second question** What lessons should you take away from this example? \n",
    "\n",
    "The most important lesson is about the process:  I made small changes, measured their impact, studied the code (and the assembly) to understand the cause, and made changes to try to improve things.  In the real world, I would have run regressions tests repeatedly as well.\n",
    "\n",
    "A secondary lesson is the \"trick\" with the `if` statement to make the common case faster.  You should _not_ just decide to apply that trick to every loop you encounter because it makes the code harder to read, but it is a good tool to have.  Like all manual optimizations, though, it should only be applied when you have data to suggest it'll work.\n",
    "\n",
    "**Third Question** Couldn't the compiler do this for me?\n",
    "\n",
    "Maybe.  Some commercial compilers can do loop tiling automatically, and we'll see that gcc can do something similar in the next lab.  I don't believe gcc has a tiling optimization pass.  \n",
    "\n",
    "**Fourth Questions**  Should you tile by hand?  As with all optimizations, the answer depends on whether the code is slow.  If this had been a real program, we would have\n",
    "\n",
    "1.  Made sure we were compiling with `-O3`.\n",
    "2.  Profiled to determine that `convolution()` was an performance-critical piece of code.\n",
    "3.  Looked at the assembly to see what the compiler was doing.\n",
    "4.  Check the compiler man page for flags that might help (e.g., is there `-ftile-loops`?).\n",
    "5.  Then, consider tiling by hand.\n",
    "\n",
    "Getting good speedup from tiling is not especially easy.  I originally intended this section of the lab to be much shorter, but, as you've seen, my initial efforts were disappointing.\n",
    "\n",
    "**Final Observation**  It's worth noting that in this example, we spent roughly equal amounts of time figuring out how to reduce the number of cache misses (which reduced CPI) and then mitigating the negative impacts on IC due to increased loop overhead.  This illustrates that implementing some optimizations incurs a cost that limits the impact of the optimization.  We then have to optimize the optimization to reduce that cost.  We will see this again in Lab 5, as we try to use multiple processors to speed up code without the overhead spoiling the party. "
   ]
  },
  {
   "cell_type": "code",
   "execution_count": null,
   "id": "ce15f2d4",
   "metadata": {
    "cse142L.is_response": true,
    "deletable": false,
    "editable": false,
    "init_cell": true
   },
   "outputs": [],
   "source": [
    "\n",
    "from CSE142L.notebook import *\n",
    "from notebook import *\n",
    "# if you get something about NUMEXPR_MAX_THREADS being set incorrectly, don't worry.  It's not a problem."
   ]
  },
  {
   "cell_type": "markdown",
   "id": "ce949ccb",
   "metadata": {
    "editable": false
   },
   "source": [
    "# Programming Assignment"
   ]
  },
  {
   "cell_type": "markdown",
   "id": "1c16e5b0",
   "metadata": {
    "editable": false
   },
   "source": [
    "Your programming assignment for this lab is to implement a memory allocator.  You've used memory allocators a lot:  in C++ you access them via `new` and `delete`.  In C, it's `malloc()` and `free()` (which `new` and `delete` call internally).  The default implementation of `malloc()` and `free()` are general purpose:  they are reasonably fast and can allocate data of any size.  However, many applications need to allocate many, many objects very quickly, so a general-purpose allocator is too slow.  In these cases, it makes sense to implement a specialized memory allocator because they can be much faster.\n",
    "\n",
    "In this lab, you'll be implementing a specialized memory allocator that has these basic characteristics:\n",
    "\n",
    "1.  It can only allocate objects of a single type (and therefore a single size).  Allocators with this characteristic are sometimes called \"slab allocators.\"\n",
    "2.  It will ensure those objects are aligned to a configurable size.\n",
    "3.  The allocator will be an object that can allocate and deallocate objects using a simple interface (see below).\n",
    "4.  When the allocator is deleted, it will automatically deallocated all objects that are still allocated.\n",
    "\n",
    "Here's the reference implementation:"
   ]
  },
  {
   "cell_type": "code",
   "execution_count": null,
   "id": "3ab219ec",
   "metadata": {
    "editable": true,
    "init_cell": true
   },
   "outputs": [],
   "source": [
    "render_code(\"ReferenceAllocator.hpp\")"
   ]
  },
  {
   "cell_type": "markdown",
   "id": "24b13508",
   "metadata": {
    "editable": false
   },
   "source": [
    "First, note that it's a template class that takes two parameters:\n",
    "\n",
    "* `T`: the type it will allocate.  You can assume the size of `T` no larger than 4096 bytes.\n",
    "* `ALIGNMENT`:  The alignment of the allocations it will make.  Alignment size can be powers of 2 between 8 and 4096 bytes (8, 16, 32, 64, etc.).\n",
    "\n",
    "The allocator has just four methods:\n",
    "\n",
    "* `ReferenceAllocator()`:  the constructor.\n",
    "* `alloc()` allocates and returns an instance of `T`.\n",
    "* `free()` deallocates `p`, a previously allocated instance of `T`.\n",
    "* `~ReferenceAllocator()`:  The destructor for the allocator.  It needs to clean up all the memory the allocator manages.\n",
    "\n",
    "It also defines `ReferenceAllocator::ItemType`,  which let's us access the type the allocator allocates and `ReferenceAllocator::Alignment` which gives us access to the alignment size.\n",
    "\n",
    "The implementation above just relies on the standard library's alignment-aware interface to the general-purpose allocator (`posix_memalign()`).  This means it's not optimized to exploit the fact that we only need to allocate a single size of object, and this is where the big optimization opportunities lie.\n",
    "\n",
    "Your allocator will not rely on any of the normal memory-allocating library calls.  Instead will use a very simple allocator to allocate memory in bulk from the operating system.  The interface is called `ChunkAlloc`: "
   ]
  },
  {
   "cell_type": "code",
   "execution_count": null,
   "id": "9ed3bc95",
   "metadata": {
    "editable": true,
    "init_cell": true
   },
   "outputs": [],
   "source": [
    "render_code(\"ChunkAlloc.hpp\")\n",
    "render_code(\"ChunkAlloc.cpp\")"
   ]
  },
  {
   "cell_type": "markdown",
   "id": "8bb00c02",
   "metadata": {
    "editable": false
   },
   "source": [
    "`ChunkAlloc` gets memory the same way `malloc()` does:  By calling  the `mmap()` system call which stands for \"memory map\".  `mmap()` is a great tool and can do many things.  You can read about it [here](https://man7.org/linux/man-pages/man2/mmap.2.html), but understanding it is not necessary for this lab.  What is important for our purposes is that `alloc_chunk()` will return a 128kB region (or \"slab\" which how slab allocators got their name) of memory that is 4kB-aligned.\n"
   ]
  },
  {
   "cell_type": "markdown",
   "id": "9fc35290",
   "metadata": {
    "editable": false
   },
   "source": [
    "## Detailed Requirements\n",
    "\n",
    "You're going to build your own version of `ReferenceAllocator` called `AlignedAllocator`.  You'll find a copy of `ReferenceAllocator.hpp` in `AlignedAllocator.hpp`.  Do your work there.\n",
    "\n",
    "Now that you understand the basics of how `ReferenceAllocator` works, here's the detailed list of requirements for `AlignedAllocator`:\n",
    "\n",
    "1.  All addresses that `AlignedAllocator::alloc()` returns must be aligned to `ALIGNMENT` so `addr % ALIGNMENT == 0`.\n",
    "2.  All addresses that `AlignedAllocator::alloc()` returns must point to at least `sizeof(T)` bytes of memory.\n",
    "3.  `AlignedAllocator::alloc()` needs to set all bytes of memory that the instance of `T` will occupy to zero before constructing `T`.\n",
    "4.  `AlignedAllocator::alloc()` needs to construct an instance of `T` in the memory using the in-place `new` operator (see below).\n",
    "5.  `AlignedAllocator::alloc()` cannot return the same pointer twice unless the pointer has been deallocated with `AlignedAllocator::free()` first.\n",
    "6.  After the destructor completes, `AlignedAllocator` must have called `free_chunk()` for every chunk it allocated with `alloc_chunk()`.  i.e., `get_allocated_chunks()` must return 0.\n",
    "8.  You are free to use the STL data structures for the internals of `AlignedAllocator`, but `alloc()` may not return any memory that is a part of an STL container.\n",
    "7.  The only mechanism you can use to allocate memory is `alloc_chunk()/free_chunk()`.  No calls to `malloc()` (or other functions from the standard library that allocate raw memory) or `new` (other than the \"in place\" version.) to allocate the space `AlignedAllocator` will return.  \n",
    "10.  Your allocator must recycle:  If memory is returned to it via `free()`, your allocator should reallocate that memory before requesting new memory via `alloc_chunk()`.  This prevents your allocator from continually allocating new memory, which might be very fast, but not a realistic solution.\n",
    "\n",
    "`ReferenceAllocator` already satisfies all of these except the last two: `ReferenceAllocator` uses `posix_memalign()` which is forbidden in your solution.  With respect to recycling, I'm not sure how `posix_memalign()` works internally, so I'm not sure how it recycles, but it does something reasonably efficient.  You'll find that removing `posix_memalign()` and meeting the above criteria will require you to rewrite most of the code in `AlignedAllocator.hpp`."
   ]
  },
  {
   "cell_type": "markdown",
   "id": "79dbd9a5",
   "metadata": {
    "editable": false
   },
   "source": [
    "## Evaluation\n",
    "\n",
    "Your implementation will be evaluated based on correctness and performance.  Your implementation of `AlignedAllocator` must pass the tests in `run_tests.cpp` which cover the requirements listed above.  There will be hidden test cases.\n",
    "\n",
    "The performance portion is based on the average score over several benchmarks in `Allocator.cpp`.  Details of the grade calculation are given under \"Final Measurement\" below.\n",
    "\n",
    "The code for the benchmarks is in `Allocator.cpp`.  The code is below.  The key functions are `bench()`, `microbench()`, `exercise()`, and `miss_machine()`.  Here's what they do:\n",
    "\n",
    "* `microbench()` just calls `alloc()` many times and records the execution time.  Then it does the same for `free()`.\n",
    "* `exercise()` allocates a bunch of objects, deletes some at random, allocates some more, deletes some at random, etc.  This puts your allocator into a \"warmed up\" or \"well-used\" state to approximate how it would behave in a long-running program.\n",
    "* `bench()` measure the execution time of `exercise()`.\n",
    "* `miss_machine()` measures the speed of a specialized version of the miss machine that tests how well your allocator manages spatial locality (more below)\n",
    "\n",
    "The `*_solution` functions near the bottom are wrappers to run each benchmark.  Pay attention to where `start_measurement()` and `end_measurment()` are called."
   ]
  },
  {
   "cell_type": "code",
   "execution_count": null,
   "id": "ea44ea12",
   "metadata": {
    "editable": true,
    "init_cell": true
   },
   "outputs": [],
   "source": [
    "render_code(\"Allocator.cpp\")"
   ]
  },
  {
   "cell_type": "markdown",
   "id": "999c55fb",
   "metadata": {
    "editable": false
   },
   "source": [
    "## `miss_machine()`"
   ]
  },
  {
   "cell_type": "markdown",
   "id": "a41fc6d5",
   "metadata": {
    "editable": false
   },
   "source": [
    "`miss_machine()` is the most interesting of the three benchmark functions because it addresses one of the subtle problems that can arise with a memory allocator.\n",
    "\n",
    "Because the memory allocator controls the layout of a program's memory, it can have a strong impact on how a program accesses memory.  For instance:\n",
    "\n",
    "1.  If the allocator is poorly designed (or unlucky) it might arrange memory so that there are many conflict misses.\n",
    "2.  Depending on how effectively the allocator reclaims space that is freed, it may waste space.\n",
    "3.  How the allocator places objects can affect which objects are close enough to benefit from spatial locality.\n",
    "\n",
    "The `miss_machine()` function in `Allocator.cpp` explores the third issue.  Here's the code again:"
   ]
  },
  {
   "cell_type": "code",
   "execution_count": null,
   "id": "9f77da52",
   "metadata": {
    "editable": true,
    "init_cell": true
   },
   "outputs": [],
   "source": [
    "build(\"Allocator.cpp\")[0].source(show=(\"//BEGIN\", \"//END\"))"
   ]
  },
  {
   "cell_type": "markdown",
   "id": "3fa53537",
   "metadata": {
    "editable": false
   },
   "source": [
    "Here's what the benchmark does. \n",
    "\n",
    "1. It create an allocator and warms it up with `exercise()`.\n",
    "\n",
    "2. It builds a miss machine out of links allocated one-at-a-time from your allocator.  This is different than description of the miss machine given earlier in the lab:  In that case we allocated the links in an array, guaranteeing good spatial locality.\n",
    "\n",
    "3. Then it measures the execution time of a call to `do_misses()`, which traverses the miss machine.\n",
    "\n",
    "Read through the code and comments carefully to understand it.\n",
    "\n",
    "We are going to run `miss_machine` with `count = 4096`.   Since each `MissingLink` is 8 bytes, 4096 links _should_ fit in the L1 cache, since `4096*8 = 32*1024`.  Let's see how the allocators do:"
   ]
  },
  {
   "cell_type": "code",
   "execution_count": null,
   "id": "a76dcaaf",
   "metadata": {
    "editable": true
   },
   "outputs": [],
   "source": [
    "alloc = build(\"Allocator.cpp\", arg_map(OPTIMIZE=\"-O3\"))\n",
    "miss_machine_run = run(alloc, function=[\"miss_machine_solution\"], \n",
    "                       arguments=arg_map(link_count=4096, access_count=10000000, seed=42),\n",
    "                       perf_counters=[\"L1-DCACHE-LOAD-MISSES\", \"PERF_COUNT_HW_INSTRUCTIONS\", \"PERF_COUNT_HW_CPU_CYCLES\"]\n",
    "                      )"
   ]
  },
  {
   "cell_type": "code",
   "execution_count": null,
   "id": "e4edaddc",
   "metadata": {
    "editable": true
   },
   "outputs": [],
   "source": [
    "miss_machine_data = PE_calc(miss_machine_run.as_df())\n",
    "display(miss_machine_data)\n"
   ]
  },
  {
   "cell_type": "markdown",
   "id": "de15d2f5",
   "metadata": {
    "editable": false
   },
   "source": [
    "I get an `L1_MPI` of 0.2. Let's take a look at the CFG for `do_misses()`:"
   ]
  },
  {
   "cell_type": "code",
   "execution_count": null,
   "id": "b9abdd9d",
   "metadata": {
    "editable": true
   },
   "outputs": [],
   "source": [
    "alloc[0].cfg(\"do_misses\")"
   ]
  },
  {
   "cell_type": "markdown",
   "id": "56f9a88a",
   "metadata": {
    "editable": false
   },
   "source": [
    "As you can see, there are only 5 instructions and one of them is an access.  The load which accounts for 0.2 of the instructions in the loop body.  Since MPI of 0.2, means that the miss rate for the `movl` in the loops is around 100%.\n",
    "\n",
    "Your task is to speed up `do_misses()` and the best way to do that is to reduce MPI by allocating `MissingLinks` in such a way that you maximize spatial locality across the miss machine.\n",
    "\n",
    "A couple of things to keep in mind:\n",
    "\n",
    "1. This benchmark is only 12.5% of your grade, and your work on the other benchmarks will get you most of those points.  It's also the hardest part.  Work on it last.\n",
    "\n",
    "2. A locality-aware allocator is probably more complex than a non-locality-aware allocator.  If you add too much complexity, it will reduce performance on the other benchmarks.\n",
    "\n",
    "3. Remember that the key to spatial locality is to fit your data (in this case the links in the miss machine) into the smallest possible number of cache lines possible."
   ]
  },
  {
   "cell_type": "markdown",
   "id": "b195afb9",
   "metadata": {
    "editable": false
   },
   "source": [
    "## Useful C++\n",
    "\n",
    "C++ likes to keep you safe by not letting you convert pointers to integers or letting you convert pointers from one type to another.  However, memory allocators need to break the rules occasionally to transform untyped bytes into objects.  The main tool for this is `reinterpret_cast<>()` and the \"in place\" `new` operator.  `ReferenceAllocator` provides an example of how to use both mechanisms.\n",
    "\n",
    "### `reinterpret_cast<>()`\n",
    "\n",
    " `reinterpret_cast<>()` let's you change a values from one type to another as long as they are the same size.  So you can do this:\n",
    "\n",
    "```C++\n",
    "char *x;\n",
    "int *y = reinterpret_cast<int *>(x);\n",
    "\n",
    "// or \n",
    "\n",
    "void * x = alloc_chunk();\n",
    "T * t = reinterpret_cast<T*>(x);\n",
    "```\n",
    "\n",
    "If you are familiar with C's `(T*)(x)` casting syntax, `reinterpret_cast` is equivalent, but preferred because it's easier to spot in code.\n",
    "\n",
    "A related tool is `uintptr_t`, which is an unsigned integer that is the same size as a pointer.  So you can increment a pointer by one byte doing this:\n",
    "\n",
    "```C++\n",
    "int * x = new int;\n",
    "uintptr_t n = reinterpret_cast<uintptr_t>(x);\n",
    "n += 1;\n",
    "x = reinterpret_cast<int *>(n);\n",
    "```\n",
    "\n",
    "Note that this is different than;\n",
    "\n",
    "```C++\n",
    "int *x = new int;\n",
    "x++;\n",
    "```\n",
    "\n",
    "Since, under C++'s pointer arithmetic rules, if you increment a pointer of type `T*`, it actually increases the address by `sizeof(T)` (i.e., 4 bytes for an `int`).\n",
    "\n",
    "\n",
    "### In-Place `new`\n",
    "\n",
    "If you call `new T`, C++ will allocate some memory to hold a new instance of `T` and then run `T`'s constructor on it.  But what if _you_ want to decide where to construct the new instance? \n",
    "\n",
    "In that case you can say something like this:\n",
    "\n",
    "```\n",
    "void * p = alloc_chunk();\n",
    "new (p) T;\n",
    "```\n",
    "\n",
    "To construct a new instance of `T` \"in place\" in the memory pointed to by `p`.  Or, if you wanted to initialize an instance of `T` starting at the 11th byte after `p`, you could do this:\n",
    "\n",
    "```\n",
    "uintptr_t n = reinterpret_cast<uintptr_t>(p);\n",
    "n += 11;\n",
    "void *q = reinterpret_cast<void*>(n);\n",
    "new (q) T;\n",
    "```\n",
    "\n",
    "Why would anyone ever want to do that?"
   ]
  },
  {
   "cell_type": "markdown",
   "id": "ced62a9f",
   "metadata": {
    "editable": false
   },
   "source": [
    "## How To Do This Lab\n",
    "\n",
    "Here's some tips about how to approach this lab.\n",
    "\n",
    "### The Lifecycle of a Memory Allocator\n",
    "\n",
    "Here are the basic steps that your memory allocator must accomplish over it's lifetime.\n",
    "\n",
    "1.  Initialize itself and its internal data structures.\n",
    "2.  Respond to calls to `alloc()`\n",
    "    1.  If the allocator has recycled objects, initialize one and return it.\n",
    "    2.  Otherwise, if the allocator has new (not recycled) memory on hand, initialize one object's worth and return it.\n",
    "    3.  Otherwise, if the allocator has no memory on hand, call `alloc_chunk()`, and goto 2.B.\n",
    "3.  Respond to calls to `free()`\n",
    "    1.  Store the object somewhere so it can be recycled.\n",
    "4.  On destruction, called `free_chunk()` to deallocate all the memory you allocated with `alloc_chunk()`.\n",
    "\n",
    "    \n",
    "### Thing to Try\n",
    "\n",
    "Here are some ideas about how to get started:\n",
    "\n",
    "1.  The main difference between what you'll implement in `AlignedAllocator` and `posix_memalign()` is that `AlignedAllocator` only needs to allocate objects of a single size.  You can exploit this fact to improve performance.\n",
    "2.  `alloc_chunk()` let's you allocate enough space to store many objects.  Since the objects are all the same size and alignment, you can calculate where each of instance of `T` will reside with the chunk.\n",
    "3.  You need to recycle.  So, think about how you can efficiently store `free()`ed memory while it's waiting to be re-`alloc()`ed.\n",
    "4.  You will need to choose the right data structures and algorithms to achieve good performance.  Think about what each data structure _needs_ to do and what operations are most important to performance.  Use the STL! (In past labs, I noticed many students implementing things that the STL already provides.  Don't re-invent -- or debug -- the wheel!)\n",
    "\n",
    "Your overall score is based on your allocator's performance across eight benchmarks.  This might seem daunting, but the performance of the benchmarks is very correlated:  If you speed up your allocator for one of them, it will get faster for many of the others.\n",
    "\n",
    "With that in mind, start with the simplest ones and go from there.  I'd proceed in this order:\n",
    "\n",
    "1.  The `microbench` function.\n",
    "2.  The `bench` function.\n",
    "3.  The `miss_machine` function."
   ]
  },
  {
   "cell_type": "markdown",
   "id": "b413f956",
   "metadata": {
    "editable": false
   },
   "source": [
    "## Do Your Work Here\n",
    "\n",
    "Below are the key commands you'll need to make progress on the lab.  Your solution should go in `AlignedAllocator.hpp`:"
   ]
  },
  {
   "cell_type": "markdown",
   "id": "d06557ec",
   "metadata": {
    "editable": false
   },
   "source": [
    "### Compiling and Running\n",
    "\n",
    "You can compile and the benchmarks locally using this command.  This is only useful for debugging.  Performance running locally is not very meaningful:"
   ]
  },
  {
   "cell_type": "code",
   "execution_count": null,
   "id": "e8b34c69",
   "metadata": {
    "editable": true
   },
   "outputs": [],
   "source": [
    "alloc = build(code(r\"\"\"\n",
    "#include <stdlib.h>\n",
    "#include<set>\n",
    "#include<iostream>\n",
    "#include<cstring>\n",
    "#include\"ChunkAlloc.hpp\"\n",
    "\n",
    "template<\n",
    "    class T,          // This is the type we are allocating.  You can assume this is less than or equal to 4kB\n",
    "    size_t ALIGNMENT  // The alignment at which we much allocate the objects.  You can assume this is less than or equal to 4kB\n",
    "    >\n",
    "class AlignedAllocator {\n",
    "    std::set<T*> chunks; // We store everything we allocated so we can clean up in the destructor.\n",
    "public:\n",
    "    typedef T ItemType; // This will make T available as AlignedAllocator::ItemType\n",
    "    static const size_t Alignment = ALIGNMENT;  // Likewise, we can access the alignment as AlignedAllocator::Alignment\n",
    "\n",
    "    AlignedAllocator() {}\n",
    "\n",
    "    // The __attribute__ ((noinline)) is here so you can find the assembly for alloc() and free().  You're welcome to remove it.\n",
    "        T * __attribute__((noinline))  alloc() {\n",
    "        void* p  = NULL;\n",
    "        // this system call can allocate aribitrary-sized and aligned\n",
    "        // objects.  Since it can handle any size, it's more general.\n",
    "        int r =  posix_memalign(&p, ALIGNMENT, sizeof(T));\n",
    "        if (r != 0) {\n",
    "            std::cerr << \"posix_memalign() failed.  Exiting: \" << strerror(r) << \"(\" << r << \")\\n\";\n",
    "            exit(1);\n",
    "        }\n",
    "        uint8_t * t = reinterpret_cast<uint8_t*>(p); // alloc_chunk provides void*, but we can assign to void.  So cast...\n",
    "        for(uint i= 0; i < sizeof(T); i++) {\n",
    "            t[i] = 0; // and set to zero.\n",
    "        }\n",
    "        T* c = reinterpret_cast<T*>(p); // cast to the type we allocate.\n",
    "        new (c) T; // This is the \"in place\" new operator.  It constructs an object at a given location.\n",
    "        chunks.insert(c); // record it so we can delete it later.\n",
    "        return c;\n",
    "    }\n",
    "\n",
    "    void __attribute__((noinline))  free(T * p) {\n",
    "        std::free(reinterpret_cast<void*>(p)); // Return the memory\n",
    "        chunks.erase(p); // note that it's no longer allocated.\n",
    "    }\n",
    "\n",
    "    __attribute__((noinline)) ~AlignedAllocator() {\n",
    "        for(auto & p: chunks) {\n",
    "            std::free(reinterpret_cast<void*>(p)); // Return everything that still allocated.\n",
    "        }\n",
    "    }\n",
    "};\n",
    "\n",
    "template<class T, size_t ALIGNMENT>\n",
    "const size_t AlignedAllocator<T, ALIGNMENT>::Alignment;\n",
    "\"\"\", file_name=\"AlignedAllocator.hpp\"), arg_map(OPTIMIZE=\"-O3\", MORE_SRC=\"ChunkAlloc.cpp Allocator.cpp\"))"
   ]
  },
  {
   "cell_type": "code",
   "execution_count": null,
   "id": "cfc8dedd",
   "metadata": {
    "editable": true
   },
   "outputs": [],
   "source": [
    "to_run = arg_map(executable=alloc,\n",
    "                 function=[\"allocator_bench_solution\"], \n",
    "                 arguments=arg_map(count=128*1024*16, seed=42),\n",
    "                 run_options=arg_map(MHz=3500))\n",
    "to_run += arg_map(executable=alloc, function=[\"allocator_microbench_solution\"], \n",
    "                 arguments=arg_map(count=1600000, seed=42),\n",
    "                 run_options=arg_map(MHz=3500))\n",
    "to_run += arg_map(executable=alloc, function=[\"miss_machine_solution\"], \n",
    "                  arguments=arg_map(link_count=4096, access_count=100000000, seed=42),\n",
    "                  run_options=arg_map(MHz=3500))\n",
    "\n",
    "alloc_run = run_list(to_run,\n",
    "                     perf_counters=[\"L1-DCACHE-LOAD-MISSES\",  \"PERF_COUNT_HW_INSTRUCTIONS\", \"PERF_COUNT_HW_CPU_CYCLES\"])\n"
   ]
  },
  {
   "cell_type": "code",
   "execution_count": null,
   "id": "87147dee",
   "metadata": {
    "editable": true
   },
   "outputs": [],
   "source": [
    "alloc_run_data = PE_calc(alloc_run.as_df())\n",
    "display(alloc_run_data)"
   ]
  },
  {
   "cell_type": "markdown",
   "id": "88e6c042",
   "metadata": {
    "editable": false
   },
   "source": [
    "If you want to just run your solution in `AlignedAllocator.hpp`, remove the \"starter\" functions from the list of functions run above.  You can run them in the cloud by removing `with local_exeuction():`."
   ]
  },
  {
   "cell_type": "markdown",
   "id": "9ce87409",
   "metadata": {
    "editable": false
   },
   "source": [
    "### Drawing Graphs"
   ]
  },
  {
   "cell_type": "code",
   "execution_count": null,
   "id": "7422dc40",
   "metadata": {
    "editable": true
   },
   "outputs": [],
   "source": [
    "plotPEBar(df=alloc_run_data, what=[(\"tag\", \"ET\"), (\"tag\", \"L1_MPI\")])"
   ]
  },
  {
   "cell_type": "markdown",
   "id": "ca6a1372",
   "metadata": {
    "editable": false
   },
   "source": [
    "### Running the Regressions\n",
    "\n",
    "There's a test suite that your code must pass and that the autograder will run.  You can run it like this:"
   ]
  },
  {
   "cell_type": "code",
   "execution_count": null,
   "id": "2b96c242",
   "metadata": {
    "editable": true
   },
   "outputs": [],
   "source": [
    "!make run_tests.exe\n",
    "!./run_tests.exe"
   ]
  },
  {
   "cell_type": "markdown",
   "id": "1c18ce18",
   "metadata": {
    "editable": false
   },
   "source": [
    "If you'd prefer you write it to a file:"
   ]
  },
  {
   "cell_type": "markdown",
   "id": "84999d0d",
   "metadata": {
    "editable": false
   },
   "source": [
    "## Debugging \n",
    "\n",
    "Using the debugger in this lab is the same as the other labs.  Please check the documentation in those labs."
   ]
  },
  {
   "cell_type": "markdown",
   "id": "f728d6ba",
   "metadata": {
    "editable": false
   },
   "source": [
    "## Final Measurement"
   ]
  },
  {
   "cell_type": "markdown",
   "id": "d05ee558",
   "metadata": {
    "editable": false
   },
   "source": [
    "When you are done, make sure your best allocator is called `AlignedAllocator` in `AlignedAllocator.hpp`. Then you can submit your code to the Gradescope autograder.  It will run the commands given above and compute your grade.\n",
    "\n",
    "Your grade is based on your speed up relative `ReferenceAllocator` on the eight benchmarks. \n",
    "\n",
    "For each of them, there's a target speedup given the table below.  \n",
    "\n",
    "You don't get extra credit for beating the targets.  This will help ensure that your design in balanced:  You must do well at all 8 benchmarks to do well on the lab.\n",
    "\n",
    "To get points, your code must also be correct.  The autograder will run the regressions in `run_tests.cpp` to check it's correctness.  There are hidden tests.\n",
    "\n",
    "You can mimic what the autograder will do with the command below, and then run the next cell below to list them and the target speedups.\n",
    "\n",
    "After you run it, the results will be in `autograde/bench.csv`, `autograde/microbench.csv`, and `autograde/miss_machine.csv` rather than `./bench.csv`, `./microbench.csv`, and `miss_machine.csv`.  This command builds and runs your code in a more controlled way by doing the following:\n",
    "\n",
    "1.  Ignores all the files in your repo except `AlignedAllocator.cpp`.\n",
    "2.  Copies those files into a clean clone of the starter repo.\n",
    "3.  Runs your code using `run_bench.py`\n",
    "5.  It then runs `autograde.py` to compute your grade.\n",
    "\n",
    "Running the cell below will do the same thing as the Geradescope autograder.  And the cell below shows the name and target speedups for each benchmark.  This takes a few minutes to run."
   ]
  },
  {
   "cell_type": "code",
   "execution_count": null,
   "id": "fccb4078",
   "metadata": {
    "editable": true
   },
   "outputs": [],
   "source": [
    "!cse142 job run --take AlignedAllocator.hpp  --lab caches2-bench --force autograde"
   ]
  },
  {
   "cell_type": "code",
   "execution_count": null,
   "id": "90aa7cd5",
   "metadata": {
    "editable": true
   },
   "outputs": [],
   "source": [
    "render_csv(\"autograde/autograde.csv\")"
   ]
  },
  {
   "cell_type": "markdown",
   "id": "b6c0b87d",
   "metadata": {
    "editable": false
   },
   "source": [
    "You can check the performance results like this:"
   ]
  },
  {
   "cell_type": "code",
   "execution_count": null,
   "id": "7f2e480c",
   "metadata": {
    "editable": true
   },
   "outputs": [],
   "source": [
    "#run it locally\n",
    "!./autograde.py --submission autograde --results autograde.json\n",
    "\n",
    "from autograde import compute_all_scores\n",
    "df = compute_all_scores(dir=\"autograde\")\n",
    "display(df)\n",
    "print(f\"total points: {round(sum(df['score']), 2)}\")"
   ]
  },
  {
   "cell_type": "markdown",
   "id": "49325260",
   "metadata": {
    "editable": false
   },
   "source": [
    "The \"score\" column contains the number of points you'll receive.\n",
    "\n",
    "You can also inspect the autograder's output."
   ]
  },
  {
   "cell_type": "code",
   "execution_count": null,
   "id": "867ed1fb",
   "metadata": {
    "editable": true
   },
   "outputs": [],
   "source": [
    "render_code(\"autograde.json\")"
   ]
  },
  {
   "cell_type": "markdown",
   "id": "ba5a970b",
   "metadata": {
    "editable": false
   },
   "source": [
    "Most of it is internal stuff that gradscope needs, but the key parts are the `score`, `max_score`, and `output` fields.\n",
    "\n",
    "All that's left is commit your code:"
   ]
  },
  {
   "cell_type": "code",
   "execution_count": null,
   "id": "dabdebc6",
   "metadata": {
    "editable": true
   },
   "outputs": [],
   "source": [
    "!git commit -am \"Solution to the lab.\"\n",
    "!git push"
   ]
  },
  {
   "cell_type": "markdown",
   "id": "a654146e",
   "metadata": {
    "editable": false
   },
   "source": [
    "If `git commit` tell you something like:\n",
    "\n",
    "```\n",
    "*** Please tell me who you are.\n",
    "\n",
    "Run\n",
    "\n",
    "git config --global user.email \"you@example.com\"\n",
    "git config --global user.name \"Your Name\"\n",
    "\n",
    "to set your account's default identity.\n",
    "Omit --global to set the identity only in this repository.\n",
    "\n",
    "fatal: unable to auto-detect email address (got 'prcheng@dsmlp-jupyter-prcheng.(none)')\n",
    "Warning: Permanently added the RSA host key for IP address '140.82.112.3' to the list of known hosts.\n",
    "Everything up-to-date\n",
    "```\n",
    "\n",
    "Then you can do (but fill in your @ucsd.edu email and your name):"
   ]
  },
  {
   "cell_type": "code",
   "execution_count": null,
   "id": "a9d10a26",
   "metadata": {
    "cse142L.is_response": true,
    "deletable": false,
    "editable": true
   },
   "outputs": [],
   "source": [
    "\n",
    "!git config --global user.email \"you@example.com\"\n",
    "!git config --global user.name \"Your Name\""
   ]
  },
  {
   "cell_type": "markdown",
   "id": "87123767",
   "metadata": {
    "editable": false
   },
   "source": [
    "\n"
   ]
  },
  {
   "cell_type": "markdown",
   "id": "b47fb8ce",
   "metadata": {
    "editable": false
   },
   "source": [
    "# Recap"
   ]
  },
  {
   "cell_type": "markdown",
   "id": "47b723ba",
   "metadata": {
    "editable": false
   },
   "source": [
    "This lab completes our tour of (single processor) memory systems.  It explored what's required to exploit temporal locality and when it does and does not exist.  It also looked at other key components of the memory hierarchy:  The lower-level caches and the TLB.   Finally, it developed an optimized version of 1-D convolution using tiling and renesting.  You should now be well-prepared for the next lab, where we will explore (among other things) how multiple processors further-complicate the performance of the memory hierarchy."
   ]
  },
  {
   "cell_type": "markdown",
   "id": "0c8bb210",
   "metadata": {
    "editable": false
   },
   "source": [
    "# Turning In the Lab"
   ]
  },
  {
   "cell_type": "markdown",
   "id": "570458fa",
   "metadata": {
    "editable": false
   },
   "source": [
    "For each lab, there are two different assignments on gradescope:\n",
    "\n",
    "1.  The lab notebook.\n",
    "2.  The programming assignment.\n",
    "\n",
    "There's also a pre-lab reading quiz on Canvas and a post-lab survey which is embedded below.\n",
    "\n",
    "## The CSE142L Emergency Lab Submission Form\n",
    "\n",
    "We do not accept late submissions.  However, sometimes things go wrong at submission time.  To accommodate this, we have the [Emergency Lab Submission Form](https://docs.google.com/forms/d/e/1FAIpQLSdPhzCyLgjmtzwF8frQ1Vrz_zHPaKurlcOf1mWMbAL3jaSVog/viewform).  It allows us to deal with submission problems in a fair and uniform way.\n",
    "\n",
    "Here's the process:\n",
    "\n",
    "1.  If you are having trouble submitting, commit your work, and fill out this form _before the deadline_.  THERE WILL BE NO EXCEPTIONS GRANTED.\n",
    "2.  The commit has you provide for your github repo must be dated before the deadline.\n",
    "3.  You can continue to try to submit via the normal gradescope.\n",
    "4.  If you aren't able to successfully submit via gradescope, then submit a regrade request during the regrade period.\n",
    "5.  We will review the contents of your github repo, the gradescope submission URLs, and the job IDs you provide.\n",
    "6.  If there was some problem with the infrastructure, you can receive up to full credit.  If there was a problem on your side (e.g., not generating the PDF properly), you can earn up to 90% credit.\n",
    "\n",
    "We will not address these issues on Piazza or via email.  \n",
    "\n",
    "## Reading Quiz\n",
    "\n",
    "The reading quiz is an online assignment on Canvas.  It's due before the class when we will assign the lab.\n",
    "\n",
    "## The Note Book\n",
    "\n",
    "You need to turn in your lab notebook and your programming assignment separately. \n",
    "\n",
    "After you complete the lab, you will turn it in by creating a version of the notebook that only contains your answers and then printing that to a pdf.\n",
    "\n",
    "**Step 1:**  Save your workbook!!!"
   ]
  },
  {
   "cell_type": "code",
   "execution_count": null,
   "id": "da0c53b5",
   "metadata": {
    "editable": true
   },
   "outputs": [],
   "source": [
    "!for i in 1 2 3 4 5; do echo Save your notebook!; sleep 1; done"
   ]
  },
  {
   "cell_type": "markdown",
   "id": "9929f704",
   "metadata": {
    "editable": false
   },
   "source": [
    "**Step 2:**  Run this command:"
   ]
  },
  {
   "cell_type": "code",
   "execution_count": null,
   "id": "fb99c256",
   "metadata": {
    "editable": true
   },
   "outputs": [],
   "source": [
    "!turnin-lab Lab.ipynb\n",
    "!ls -lh Lab.turnin.ipynb"
   ]
  },
  {
   "attachments": {
    "image.png": {
     "image/png": "[encoded data removed]"
    }
   },
   "cell_type": "markdown",
   "id": "e6549bd0",
   "metadata": {
    "editable": false
   },
   "source": [
    "The date in the above file listing should show that you just created `Lab.turnin.ipynb`\n",
    "\n",
    "**Step 3:**  Click on this link to open it: [./Lab.turnin.ipynb](./Lab.turnin.ipynb)\n",
    "\n",
    "**Step 4:**  Hide the table of contents by clicking the\n",
    "\n",
    "![image.png](attachment:image.png)\n",
    "\n",
    "**Step 5:**  Select \"Print\" from _your browser's_ \"file\" menu.  Print directly to a PDF.\n",
    "\n",
    "**Step 6:**  Make sure all your answers are visible and not cut off the side of the page.\n",
    "\n",
    "**Step 7:**  Turn in that PDF via gradescope."
   ]
  },
  {
   "cell_type": "markdown",
   "id": "7d79817d",
   "metadata": {
    "editable": false
   },
   "source": [
    "<div class=\"alert alert-block alert-danger\">\n",
    "\n",
    "**Print Carefully** It's important that you print directly to a PDF.  In particular, you should _not_ do any of the following:\n",
    "    \n",
    "1. **Do not** select \"Print Preview\" and then print that. (Remarkably, this is not the same as printing directly, so it's not clear what it is a preview of)\n",
    "2. **Do not** select `Download as-> PDF via LaTex.  It generates nothing useful.\n",
    "    \n",
    "</div>\n",
    "\n",
    "Once you have your PDF, you can submit it via gradescope.  In gradescope, you'll need to show us where all your answers are.  Please do this carefully, if we can't find your answer, we can't grade it."
   ]
  },
  {
   "cell_type": "markdown",
   "id": "217d1fed",
   "metadata": {
    "editable": false
   },
   "source": [
    "## Lab Survey\n",
    "\n",
    "Please fill out this survey when you've finished the lab.  You can only submit once.  Be sure to press \"submit\", your answers won't be saved in the notebook."
   ]
  },
  {
   "cell_type": "code",
   "execution_count": 3,
   "id": "e8f9e04f",
   "metadata": {
    "deletable": false,
    "editable": true,
    "init_cell": true
   },
   "outputs": [],
   "source": [
    "from IPython.display import IFrame    \n",
    "IFrame('https://docs.google.com/forms/d/e/1FAIpQLSdEyaIDy52FLLUzQEXoJJmz7ffQBN1-0Qdndu6wQ7NK8U6pZw/viewform', width=800, height=2000)\n"
   ]
  },
  {
   "cell_type": "markdown",
   "id": "e45d953d",
   "metadata": {
    "editable": false
   },
   "source": [
    "\n"
   ]
  }
 ],
 "metadata": {
  "kernelspec": {
   "display_name": "Python 3 (ipykernel)",
   "language": "python",
   "name": "python3"
  },
  "language_info": {
   "codemirror_mode": {
    "name": "ipython",
    "version": 3
   },
   "file_extension": ".py",
   "mimetype": "text/x-python",
   "name": "python",
   "nbconvert_exporter": "python",
   "pygments_lexer": "ipython3",
   "version": "3.10.6"
  },
  "toc": {
   "base_numbering": 1,
   "nav_menu": {},
   "number_sections": true,
   "sideBar": true,
   "skip_h1_title": false,
   "title_cell": "Table of Contents",
   "title_sidebar": "Contents",
   "toc_cell": false,
   "toc_position": {
    "height": "calc(100% - 180px)",
    "left": "10px",
    "top": "150px",
    "width": "334px"
   },
   "toc_section_display": true,
   "toc_window_display": true
  }
 },
 "nbformat": 4,
 "nbformat_minor": 5
}
